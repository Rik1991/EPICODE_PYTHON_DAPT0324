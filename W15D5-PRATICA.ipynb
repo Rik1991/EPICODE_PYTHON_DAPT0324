{
  "nbformat": 4,
  "nbformat_minor": 0,
  "metadata": {
    "colab": {
      "provenance": []
    },
    "kernelspec": {
      "name": "python3",
      "display_name": "Python 3"
    },
    "language_info": {
      "name": "python"
    }
  },
  "cells": [
    {
      "cell_type": "code",
      "source": [
        "import pandas as pd"
      ],
      "metadata": {
        "id": "eYQt0XzuQDrD"
      },
      "execution_count": 1,
      "outputs": []
    },
    {
      "cell_type": "code",
      "source": [
        "import matplotlib.pyplot as plt"
      ],
      "metadata": {
        "id": "t41AHDz-DqWa"
      },
      "execution_count": 2,
      "outputs": []
    },
    {
      "cell_type": "code",
      "source": [
        "import os"
      ],
      "metadata": {
        "id": "fdSGDctxof4j"
      },
      "execution_count": 3,
      "outputs": []
    },
    {
      "cell_type": "code",
      "source": [
        "from datetime import datetime"
      ],
      "metadata": {
        "id": "BqaofgAzpEPI"
      },
      "execution_count": 4,
      "outputs": []
    },
    {
      "cell_type": "code",
      "execution_count": null,
      "metadata": {
        "id": "8uHLB40sLaUM"
      },
      "outputs": [],
      "source": [
        "#Andiamo su http://www.datiopen.it/it/opendata/Mappa_dei_pub_circoli_locali_in_Italia e scarichiamo il file (in formato JSON) della mappa dei pub, circoli e locali in Italia Nota: per leggerlo nella funzione open() dovremo aggiungere il parametro encoding=\"latin1\", ad esempio: f = open(file_path, \"r\", encoding=\"latin1\") dove file_path è chiaramente la posizione del file nel nostro calcolatore."
      ]
    },
    {
      "cell_type": "code",
      "source": [
        "from google.colab import files\n",
        "uploaded = files.upload()\n",
        "\n",
        "import json\n",
        "\n",
        "with open(\"Mappa-dei-pub-circoli-locali-in-Italia.json\", \"r\", encoding=\"latin1\") as f:\n",
        "  data = json.load(f)\n"
      ],
      "metadata": {
        "colab": {
          "base_uri": "https://localhost:8080/",
          "height": 73
        },
        "id": "Ze8Lbk6OPPOJ",
        "outputId": "83d13920-75ca-4c26-c94b-860e79cfa4a9"
      },
      "execution_count": null,
      "outputs": [
        {
          "output_type": "display_data",
          "data": {
            "text/plain": [
              "<IPython.core.display.HTML object>"
            ],
            "text/html": [
              "\n",
              "     <input type=\"file\" id=\"files-e78c61fc-8a05-4bc0-b252-f84cae700873\" name=\"files[]\" multiple disabled\n",
              "        style=\"border:none\" />\n",
              "     <output id=\"result-e78c61fc-8a05-4bc0-b252-f84cae700873\">\n",
              "      Upload widget is only available when the cell has been executed in the\n",
              "      current browser session. Please rerun this cell to enable.\n",
              "      </output>\n",
              "      <script>// Copyright 2017 Google LLC\n",
              "//\n",
              "// Licensed under the Apache License, Version 2.0 (the \"License\");\n",
              "// you may not use this file except in compliance with the License.\n",
              "// You may obtain a copy of the License at\n",
              "//\n",
              "//      http://www.apache.org/licenses/LICENSE-2.0\n",
              "//\n",
              "// Unless required by applicable law or agreed to in writing, software\n",
              "// distributed under the License is distributed on an \"AS IS\" BASIS,\n",
              "// WITHOUT WARRANTIES OR CONDITIONS OF ANY KIND, either express or implied.\n",
              "// See the License for the specific language governing permissions and\n",
              "// limitations under the License.\n",
              "\n",
              "/**\n",
              " * @fileoverview Helpers for google.colab Python module.\n",
              " */\n",
              "(function(scope) {\n",
              "function span(text, styleAttributes = {}) {\n",
              "  const element = document.createElement('span');\n",
              "  element.textContent = text;\n",
              "  for (const key of Object.keys(styleAttributes)) {\n",
              "    element.style[key] = styleAttributes[key];\n",
              "  }\n",
              "  return element;\n",
              "}\n",
              "\n",
              "// Max number of bytes which will be uploaded at a time.\n",
              "const MAX_PAYLOAD_SIZE = 100 * 1024;\n",
              "\n",
              "function _uploadFiles(inputId, outputId) {\n",
              "  const steps = uploadFilesStep(inputId, outputId);\n",
              "  const outputElement = document.getElementById(outputId);\n",
              "  // Cache steps on the outputElement to make it available for the next call\n",
              "  // to uploadFilesContinue from Python.\n",
              "  outputElement.steps = steps;\n",
              "\n",
              "  return _uploadFilesContinue(outputId);\n",
              "}\n",
              "\n",
              "// This is roughly an async generator (not supported in the browser yet),\n",
              "// where there are multiple asynchronous steps and the Python side is going\n",
              "// to poll for completion of each step.\n",
              "// This uses a Promise to block the python side on completion of each step,\n",
              "// then passes the result of the previous step as the input to the next step.\n",
              "function _uploadFilesContinue(outputId) {\n",
              "  const outputElement = document.getElementById(outputId);\n",
              "  const steps = outputElement.steps;\n",
              "\n",
              "  const next = steps.next(outputElement.lastPromiseValue);\n",
              "  return Promise.resolve(next.value.promise).then((value) => {\n",
              "    // Cache the last promise value to make it available to the next\n",
              "    // step of the generator.\n",
              "    outputElement.lastPromiseValue = value;\n",
              "    return next.value.response;\n",
              "  });\n",
              "}\n",
              "\n",
              "/**\n",
              " * Generator function which is called between each async step of the upload\n",
              " * process.\n",
              " * @param {string} inputId Element ID of the input file picker element.\n",
              " * @param {string} outputId Element ID of the output display.\n",
              " * @return {!Iterable<!Object>} Iterable of next steps.\n",
              " */\n",
              "function* uploadFilesStep(inputId, outputId) {\n",
              "  const inputElement = document.getElementById(inputId);\n",
              "  inputElement.disabled = false;\n",
              "\n",
              "  const outputElement = document.getElementById(outputId);\n",
              "  outputElement.innerHTML = '';\n",
              "\n",
              "  const pickedPromise = new Promise((resolve) => {\n",
              "    inputElement.addEventListener('change', (e) => {\n",
              "      resolve(e.target.files);\n",
              "    });\n",
              "  });\n",
              "\n",
              "  const cancel = document.createElement('button');\n",
              "  inputElement.parentElement.appendChild(cancel);\n",
              "  cancel.textContent = 'Cancel upload';\n",
              "  const cancelPromise = new Promise((resolve) => {\n",
              "    cancel.onclick = () => {\n",
              "      resolve(null);\n",
              "    };\n",
              "  });\n",
              "\n",
              "  // Wait for the user to pick the files.\n",
              "  const files = yield {\n",
              "    promise: Promise.race([pickedPromise, cancelPromise]),\n",
              "    response: {\n",
              "      action: 'starting',\n",
              "    }\n",
              "  };\n",
              "\n",
              "  cancel.remove();\n",
              "\n",
              "  // Disable the input element since further picks are not allowed.\n",
              "  inputElement.disabled = true;\n",
              "\n",
              "  if (!files) {\n",
              "    return {\n",
              "      response: {\n",
              "        action: 'complete',\n",
              "      }\n",
              "    };\n",
              "  }\n",
              "\n",
              "  for (const file of files) {\n",
              "    const li = document.createElement('li');\n",
              "    li.append(span(file.name, {fontWeight: 'bold'}));\n",
              "    li.append(span(\n",
              "        `(${file.type || 'n/a'}) - ${file.size} bytes, ` +\n",
              "        `last modified: ${\n",
              "            file.lastModifiedDate ? file.lastModifiedDate.toLocaleDateString() :\n",
              "                                    'n/a'} - `));\n",
              "    const percent = span('0% done');\n",
              "    li.appendChild(percent);\n",
              "\n",
              "    outputElement.appendChild(li);\n",
              "\n",
              "    const fileDataPromise = new Promise((resolve) => {\n",
              "      const reader = new FileReader();\n",
              "      reader.onload = (e) => {\n",
              "        resolve(e.target.result);\n",
              "      };\n",
              "      reader.readAsArrayBuffer(file);\n",
              "    });\n",
              "    // Wait for the data to be ready.\n",
              "    let fileData = yield {\n",
              "      promise: fileDataPromise,\n",
              "      response: {\n",
              "        action: 'continue',\n",
              "      }\n",
              "    };\n",
              "\n",
              "    // Use a chunked sending to avoid message size limits. See b/62115660.\n",
              "    let position = 0;\n",
              "    do {\n",
              "      const length = Math.min(fileData.byteLength - position, MAX_PAYLOAD_SIZE);\n",
              "      const chunk = new Uint8Array(fileData, position, length);\n",
              "      position += length;\n",
              "\n",
              "      const base64 = btoa(String.fromCharCode.apply(null, chunk));\n",
              "      yield {\n",
              "        response: {\n",
              "          action: 'append',\n",
              "          file: file.name,\n",
              "          data: base64,\n",
              "        },\n",
              "      };\n",
              "\n",
              "      let percentDone = fileData.byteLength === 0 ?\n",
              "          100 :\n",
              "          Math.round((position / fileData.byteLength) * 100);\n",
              "      percent.textContent = `${percentDone}% done`;\n",
              "\n",
              "    } while (position < fileData.byteLength);\n",
              "  }\n",
              "\n",
              "  // All done.\n",
              "  yield {\n",
              "    response: {\n",
              "      action: 'complete',\n",
              "    }\n",
              "  };\n",
              "}\n",
              "\n",
              "scope.google = scope.google || {};\n",
              "scope.google.colab = scope.google.colab || {};\n",
              "scope.google.colab._files = {\n",
              "  _uploadFiles,\n",
              "  _uploadFilesContinue,\n",
              "};\n",
              "})(self);\n",
              "</script> "
            ]
          },
          "metadata": {}
        },
        {
          "output_type": "stream",
          "name": "stdout",
          "text": [
            "Saving Mappa-dei-pub-circoli-locali-in-Italia.json to Mappa-dei-pub-circoli-locali-in-Italia.json\n"
          ]
        }
      ]
    },
    {
      "cell_type": "code",
      "source": [
        "#Esaminiamo il dataset Mappa-dei-pub-circoli-locali-in-Italia.json: • quanti dati ci sono in totale? • quali sono i metadati? • stampiamo il primo elemento • stampiamo l'ultimo elemento • riusciamo a stampare un elemento a caso? • quali sono gli anni di inserimento presenti? • quante attività ci sono nel quadrato di longitudine 9-10 e latitudine 45-46? • quante attività ci sono nella provincia di Vicenza? • quante enoteche ci sono, e come si chiamano? 3 • quante attività ci sono in Lazio e Abruzzo assieme?"
      ],
      "metadata": {
        "id": "G2qI8DPHMcyW"
      },
      "execution_count": null,
      "outputs": []
    },
    {
      "cell_type": "code",
      "source": [
        "# Quanti dati ci sono in totale?\n",
        "print(\"Numero totale di dati:\", len(data))\n",
        "\n",
        "# Quali sono i metadati?\n",
        "file_path = \"Mappa-dei-pub-circoli-locali-in-Italia.json\"  # Store the file path\n",
        "file_info = os.stat(file_path)\n",
        "\n",
        "# Estrazione dei metadati\n",
        "metadati = {\n",
        "    'Nome del file': os.path.basename(file_path),  # Use file_path here\n",
        "    'Percorso del file': os.path.dirname(file_path),  # Use file_path here\n",
        "    'Dimensione del file (in byte)': file_info.st_size,\n",
        "    'Ultima data di accesso': datetime.fromtimestamp(file_info.st_atime).isoformat(),\n",
        "    'Ultima data di modifica': datetime.fromtimestamp(file_info.st_mtime).isoformat(),\n",
        "    'Data di creazione': datetime.fromtimestamp(file_info.st_ctime).isoformat(),\n",
        "    'Data di ultima modifica': datetime.fromtimestamp(file_info.st_mtime).isoformat(),\n",
        "    'Numero di record nel JSON': len(data)\n",
        "}\n",
        "\n",
        "# Stampa i metadati\n",
        "for chiave, valore in metadati.items():\n",
        "    print(f\"{chiave}: {valore}\")\n",
        "\n",
        "# Stampiamo il primo elemento\n",
        "print(\"\\nPrimo elemento:\")\n",
        "print(data[0])\n",
        "\n",
        "# Stampiamo l'ultimo elemento\n",
        "print(\"\\nUltimo elemento:\")\n",
        "print(data[-1])\n",
        "\n",
        "# Stampiamo un elemento a caso\n",
        "import random\n",
        "random_index = random.randint(0, len(data) - 1)\n",
        "print(\"\\nElemento casuale:\")\n",
        "print(data[random_index])\n",
        "\n",
        "# Stampa i valori di \"canno_inserimento\"\n",
        "anni_inserimento = []\n",
        "for item in data:\n",
        "  canno_inserimento = item.get(\"canno_inserimento\")\n",
        "  if canno_inserimento not in anni_inserimento:\n",
        "    anni_inserimento.append(canno_inserimento)\n",
        "print(\"\\nAnni di inserimento:\", anni_inserimento)\n",
        "\n",
        "# Quante attività \"cnome\" ci sono nel quadrato di \"clongitudine\" 9-10 e \"clatitudine\" 45-46?\n",
        "count_attività = 0\n",
        "for item in data:\n",
        "    longitudine = float(item.get(\"clongitudine\"))\n",
        "    latitudine = float(item.get(\"clatitudine\"))\n",
        "    if 9 <= longitudine <= 10 and 45 <= latitudine <= 46:\n",
        "        count_attività += 1\n",
        "print(\"\\nAttività nel quadrato 9-10 longitudine e 45-46 latitudine:\", count_attività)\n",
        "\n",
        "# Quante attività \"cnome\" ci sono nella \"cprovincia\" di Vicenza?\n",
        "count_vicenza = 0\n",
        "for item in data:\n",
        "    if item.get(\"cprovincia\") == \"VICENZA\":\n",
        "        count_vicenza += 1\n",
        "print(\"\\nAttività nella provincia di Vicenza:\", count_vicenza)\n",
        "\n",
        "# Quante attività \"cnome\" enoteche ci sono, e quali valori hanno?\n",
        "count_enoteche = 0\n",
        "nomi_enoteche = []\n",
        "for item in data:\n",
        "    if \"ENOTECA\" in item.get(\"cnome\", \"\").upper():\n",
        "        count_enoteche += 1\n",
        "        nomi_enoteche.append(item.get(\"cnome\"))\n",
        "print(\"\\nNumero di enoteche:\", count_enoteche)\n",
        "print(\"Nomi delle enoteche:\", nomi_enoteche)"
      ],
      "metadata": {
        "id": "5QZ0DlaKBdFQ",
        "colab": {
          "base_uri": "https://localhost:8080/"
        },
        "outputId": "c2fd9a46-bae9-4370-8829-f1d852f35dcf",
        "collapsed": true
      },
      "execution_count": null,
      "outputs": [
        {
          "output_type": "stream",
          "name": "stdout",
          "text": [
            "Numero totale di dati: 2497\n",
            "Nome del file: Mappa-dei-pub-circoli-locali-in-Italia.json\n",
            "Percorso del file: \n",
            "Dimensione del file (in byte): 744819\n",
            "Ultima data di accesso: 2024-09-04T07:00:40.424584\n",
            "Ultima data di modifica: 2024-09-04T07:00:40.422584\n",
            "Data di creazione: 2024-09-04T07:00:40.422584\n",
            "Data di ultima modifica: 2024-09-04T07:00:40.422584\n",
            "Numero di record nel JSON: 2497\n",
            "\n",
            "Primo elemento:\n",
            "{'ccomune': 'ALTRO', 'cprovincia': 'ALTRO', 'cregione': 'ALTRO', 'cnome': '', 'canno_inserimento': '2011', 'cdata_e_ora_inserimento': '2011-06-25T23:17:43Z', 'cidentificatore_in_openstreetmap': '1339088150', 'clongitudine': '13.733257', 'clatitudine': '45.5758303'}\n",
            "\n",
            "Ultimo elemento:\n",
            "{'ccomune': 'Trani (BT)', 'cprovincia': 'BARLETTA ANDRIA TRANI', 'cregione': 'Puglia', 'cnome': \"Well's Fargo\", 'canno_inserimento': '2009', 'cdata_e_ora_inserimento': '2009-08-10T12:44:03Z', 'cidentificatore_in_openstreetmap': '387223648', 'clongitudine': '16.4367655', 'clatitudine': '41.2672644'}\n",
            "\n",
            "Elemento casuale:\n",
            "{'ccomune': 'Cimone', 'cprovincia': 'TRENTO', 'cregione': 'Trentino-Alto Adige', 'cnome': 'New Angel', 'canno_inserimento': '2013', 'cdata_e_ora_inserimento': '2013-09-25T18:32:41Z', 'cidentificatore_in_openstreetmap': '900137938', 'clongitudine': '11.07121', 'clatitudine': '45.9787654'}\n",
            "\n",
            "Anni di inserimento: ['2011', '2015', '2010', '2012', '2014', '2016', '2013', '2008', '2009', '2007']\n",
            "\n",
            "Attività nel quadrato 9-10 longitudine e 45-46 latitudine: 303\n",
            "\n",
            "Attività nella provincia di Vicenza: 73\n",
            "\n",
            "Numero di enoteche: 6\n",
            "Nomi delle enoteche: ['Enoteca con Cucina\"\"Tirolin\"\"', 'Concordia Enoteca', 'Enoteca Umberto', 'Enoteca \"\"Al Brindisi\"\"', 'Enoteca \"\"da Massimo\"\"', 'Enoteca Il Violino Rosso']\n"
          ]
        }
      ]
    },
    {
      "cell_type": "code",
      "source": [
        "#Carichiamo in un DataFrame il dataset iris.csv dei beginner_datasets e calcoliamo: • La media della lunghezza dei petali di tutto il dataset • La media della lunghezza dei petali per ogni specie di Iris, utilizzando il metodo .groupby() • Media, minimo e massimo della larghezza dei sepali per ogni specie, utilizzando .groupby() e .agg()"
      ],
      "metadata": {
        "id": "7tfNSAauMd-5"
      },
      "execution_count": null,
      "outputs": []
    },
    {
      "cell_type": "code",
      "source": [
        "import pandas as pd\n",
        "from google.colab import files\n",
        "\n",
        "# Upload the file to the Colab environment\n",
        "uploaded = files.upload()"
      ],
      "metadata": {
        "colab": {
          "base_uri": "https://localhost:8080/",
          "height": 73
        },
        "collapsed": true,
        "id": "IoA95Lx0XNeA",
        "outputId": "7f28ac18-d34d-42b2-e1a0-b5ef74c67323"
      },
      "execution_count": null,
      "outputs": [
        {
          "output_type": "display_data",
          "data": {
            "text/plain": [
              "<IPython.core.display.HTML object>"
            ],
            "text/html": [
              "\n",
              "     <input type=\"file\" id=\"files-f145fba2-0418-4a98-a745-38742f778636\" name=\"files[]\" multiple disabled\n",
              "        style=\"border:none\" />\n",
              "     <output id=\"result-f145fba2-0418-4a98-a745-38742f778636\">\n",
              "      Upload widget is only available when the cell has been executed in the\n",
              "      current browser session. Please rerun this cell to enable.\n",
              "      </output>\n",
              "      <script>// Copyright 2017 Google LLC\n",
              "//\n",
              "// Licensed under the Apache License, Version 2.0 (the \"License\");\n",
              "// you may not use this file except in compliance with the License.\n",
              "// You may obtain a copy of the License at\n",
              "//\n",
              "//      http://www.apache.org/licenses/LICENSE-2.0\n",
              "//\n",
              "// Unless required by applicable law or agreed to in writing, software\n",
              "// distributed under the License is distributed on an \"AS IS\" BASIS,\n",
              "// WITHOUT WARRANTIES OR CONDITIONS OF ANY KIND, either express or implied.\n",
              "// See the License for the specific language governing permissions and\n",
              "// limitations under the License.\n",
              "\n",
              "/**\n",
              " * @fileoverview Helpers for google.colab Python module.\n",
              " */\n",
              "(function(scope) {\n",
              "function span(text, styleAttributes = {}) {\n",
              "  const element = document.createElement('span');\n",
              "  element.textContent = text;\n",
              "  for (const key of Object.keys(styleAttributes)) {\n",
              "    element.style[key] = styleAttributes[key];\n",
              "  }\n",
              "  return element;\n",
              "}\n",
              "\n",
              "// Max number of bytes which will be uploaded at a time.\n",
              "const MAX_PAYLOAD_SIZE = 100 * 1024;\n",
              "\n",
              "function _uploadFiles(inputId, outputId) {\n",
              "  const steps = uploadFilesStep(inputId, outputId);\n",
              "  const outputElement = document.getElementById(outputId);\n",
              "  // Cache steps on the outputElement to make it available for the next call\n",
              "  // to uploadFilesContinue from Python.\n",
              "  outputElement.steps = steps;\n",
              "\n",
              "  return _uploadFilesContinue(outputId);\n",
              "}\n",
              "\n",
              "// This is roughly an async generator (not supported in the browser yet),\n",
              "// where there are multiple asynchronous steps and the Python side is going\n",
              "// to poll for completion of each step.\n",
              "// This uses a Promise to block the python side on completion of each step,\n",
              "// then passes the result of the previous step as the input to the next step.\n",
              "function _uploadFilesContinue(outputId) {\n",
              "  const outputElement = document.getElementById(outputId);\n",
              "  const steps = outputElement.steps;\n",
              "\n",
              "  const next = steps.next(outputElement.lastPromiseValue);\n",
              "  return Promise.resolve(next.value.promise).then((value) => {\n",
              "    // Cache the last promise value to make it available to the next\n",
              "    // step of the generator.\n",
              "    outputElement.lastPromiseValue = value;\n",
              "    return next.value.response;\n",
              "  });\n",
              "}\n",
              "\n",
              "/**\n",
              " * Generator function which is called between each async step of the upload\n",
              " * process.\n",
              " * @param {string} inputId Element ID of the input file picker element.\n",
              " * @param {string} outputId Element ID of the output display.\n",
              " * @return {!Iterable<!Object>} Iterable of next steps.\n",
              " */\n",
              "function* uploadFilesStep(inputId, outputId) {\n",
              "  const inputElement = document.getElementById(inputId);\n",
              "  inputElement.disabled = false;\n",
              "\n",
              "  const outputElement = document.getElementById(outputId);\n",
              "  outputElement.innerHTML = '';\n",
              "\n",
              "  const pickedPromise = new Promise((resolve) => {\n",
              "    inputElement.addEventListener('change', (e) => {\n",
              "      resolve(e.target.files);\n",
              "    });\n",
              "  });\n",
              "\n",
              "  const cancel = document.createElement('button');\n",
              "  inputElement.parentElement.appendChild(cancel);\n",
              "  cancel.textContent = 'Cancel upload';\n",
              "  const cancelPromise = new Promise((resolve) => {\n",
              "    cancel.onclick = () => {\n",
              "      resolve(null);\n",
              "    };\n",
              "  });\n",
              "\n",
              "  // Wait for the user to pick the files.\n",
              "  const files = yield {\n",
              "    promise: Promise.race([pickedPromise, cancelPromise]),\n",
              "    response: {\n",
              "      action: 'starting',\n",
              "    }\n",
              "  };\n",
              "\n",
              "  cancel.remove();\n",
              "\n",
              "  // Disable the input element since further picks are not allowed.\n",
              "  inputElement.disabled = true;\n",
              "\n",
              "  if (!files) {\n",
              "    return {\n",
              "      response: {\n",
              "        action: 'complete',\n",
              "      }\n",
              "    };\n",
              "  }\n",
              "\n",
              "  for (const file of files) {\n",
              "    const li = document.createElement('li');\n",
              "    li.append(span(file.name, {fontWeight: 'bold'}));\n",
              "    li.append(span(\n",
              "        `(${file.type || 'n/a'}) - ${file.size} bytes, ` +\n",
              "        `last modified: ${\n",
              "            file.lastModifiedDate ? file.lastModifiedDate.toLocaleDateString() :\n",
              "                                    'n/a'} - `));\n",
              "    const percent = span('0% done');\n",
              "    li.appendChild(percent);\n",
              "\n",
              "    outputElement.appendChild(li);\n",
              "\n",
              "    const fileDataPromise = new Promise((resolve) => {\n",
              "      const reader = new FileReader();\n",
              "      reader.onload = (e) => {\n",
              "        resolve(e.target.result);\n",
              "      };\n",
              "      reader.readAsArrayBuffer(file);\n",
              "    });\n",
              "    // Wait for the data to be ready.\n",
              "    let fileData = yield {\n",
              "      promise: fileDataPromise,\n",
              "      response: {\n",
              "        action: 'continue',\n",
              "      }\n",
              "    };\n",
              "\n",
              "    // Use a chunked sending to avoid message size limits. See b/62115660.\n",
              "    let position = 0;\n",
              "    do {\n",
              "      const length = Math.min(fileData.byteLength - position, MAX_PAYLOAD_SIZE);\n",
              "      const chunk = new Uint8Array(fileData, position, length);\n",
              "      position += length;\n",
              "\n",
              "      const base64 = btoa(String.fromCharCode.apply(null, chunk));\n",
              "      yield {\n",
              "        response: {\n",
              "          action: 'append',\n",
              "          file: file.name,\n",
              "          data: base64,\n",
              "        },\n",
              "      };\n",
              "\n",
              "      let percentDone = fileData.byteLength === 0 ?\n",
              "          100 :\n",
              "          Math.round((position / fileData.byteLength) * 100);\n",
              "      percent.textContent = `${percentDone}% done`;\n",
              "\n",
              "    } while (position < fileData.byteLength);\n",
              "  }\n",
              "\n",
              "  // All done.\n",
              "  yield {\n",
              "    response: {\n",
              "      action: 'complete',\n",
              "    }\n",
              "  };\n",
              "}\n",
              "\n",
              "scope.google = scope.google || {};\n",
              "scope.google.colab = scope.google.colab || {};\n",
              "scope.google.colab._files = {\n",
              "  _uploadFiles,\n",
              "  _uploadFilesContinue,\n",
              "};\n",
              "})(self);\n",
              "</script> "
            ]
          },
          "metadata": {}
        },
        {
          "output_type": "stream",
          "name": "stdout",
          "text": [
            "Saving Iris.csv to Iris (3).csv\n"
          ]
        }
      ]
    },
    {
      "cell_type": "code",
      "source": [
        "# Read the file into a DataFrame, making sure the filename matches exactly\n",
        "iris_df = pd.read_csv(\"Iris.csv\")  # Make sure this filename is correct"
      ],
      "metadata": {
        "id": "ibEVb1CVXssi"
      },
      "execution_count": null,
      "outputs": []
    },
    {
      "cell_type": "code",
      "source": [
        "# Calcola la media della lunghezza dei petali di tutto il dataset\n",
        "media_lunghezza_petali = iris_df[\"PetalLengthCm\"].mean()\n",
        "print(\"Media della lunghezza dei petali:\", media_lunghezza_petali)\n"
      ],
      "metadata": {
        "colab": {
          "base_uri": "https://localhost:8080/"
        },
        "id": "1aNFsOlfYEIC",
        "outputId": "6abcce4d-487a-4077-d0ab-30f14a54ee66"
      },
      "execution_count": null,
      "outputs": [
        {
          "output_type": "stream",
          "name": "stdout",
          "text": [
            "Media della lunghezza dei petali: 3.758666666666666\n"
          ]
        }
      ]
    },
    {
      "cell_type": "code",
      "source": [
        "# Calcola la media della lunghezza dei petali per ogni specie di Iris\n",
        "media_lunghezza_petali_per_specie = iris_df.groupby(\"Species\")[\"PetalLengthCm\"].mean()\n",
        "print(\"\\nMedia della lunghezza dei petali per specie:\")\n",
        "print(media_lunghezza_petali_per_specie)\n"
      ],
      "metadata": {
        "colab": {
          "base_uri": "https://localhost:8080/"
        },
        "id": "dSpz6mSGZoD2",
        "outputId": "e747f524-1f59-417f-ecfd-baa0bf9ec5e0"
      },
      "execution_count": null,
      "outputs": [
        {
          "output_type": "stream",
          "name": "stdout",
          "text": [
            "\n",
            "Media della lunghezza dei petali per specie:\n",
            "Species\n",
            "Iris-setosa        1.464\n",
            "Iris-versicolor    4.260\n",
            "Iris-virginica     5.552\n",
            "Name: PetalLengthCm, dtype: float64\n"
          ]
        }
      ]
    },
    {
      "cell_type": "code",
      "source": [
        "# Calcola media, minimo e massimo della larghezza dei sepali per ogni specie\n",
        "statistiche_larghezza_sepali = iris_df.groupby(\"Species\")[\"SepalWidthCm\"].agg([\"mean\", \"min\", \"max\"])\n",
        "print(\"\\nStatistiche della larghezza dei sepali per specie:\")\n",
        "print(statistiche_larghezza_sepali)\n"
      ],
      "metadata": {
        "colab": {
          "base_uri": "https://localhost:8080/"
        },
        "id": "G229W9wJa9VJ",
        "outputId": "3275d73d-8974-4628-bad2-72708dad42e0"
      },
      "execution_count": null,
      "outputs": [
        {
          "output_type": "stream",
          "name": "stdout",
          "text": [
            "\n",
            "Statistiche della larghezza dei sepali per specie:\n",
            "                  mean  min  max\n",
            "Species                         \n",
            "Iris-setosa      3.418  2.3  4.4\n",
            "Iris-versicolor  2.770  2.0  3.4\n",
            "Iris-virginica   2.974  2.2  3.8\n"
          ]
        }
      ]
    },
    {
      "cell_type": "code",
      "source": [
        "#Nei beginner_datasets, il dataset wine.csv contiene delle analisi organolettiche su diverse qualità di vini: • Qual è la media di concentrazione alcolica per ogni qualità? Ci sono differenze? E rispetto alla media totale? • C'è differenza nella concentrazione alcolica per vini bianchi e vini rossi? • Rifacendo le analisi delle domande precedenti ma per il pH, cambia qualcosa? • E per i solfati?"
      ],
      "metadata": {
        "id": "UgM2fzxxMdzN"
      },
      "execution_count": null,
      "outputs": []
    },
    {
      "cell_type": "code",
      "source": [
        "from google.colab import files\n",
        "\n",
        "# Upload the file to the Colab environment\n",
        "uploaded = files.upload()"
      ],
      "metadata": {
        "colab": {
          "base_uri": "https://localhost:8080/",
          "height": 73
        },
        "id": "JLbFjV5FdkUb",
        "outputId": "59f75e87-7c07-4ffd-c0d6-b008579b3d30"
      },
      "execution_count": null,
      "outputs": [
        {
          "output_type": "display_data",
          "data": {
            "text/plain": [
              "<IPython.core.display.HTML object>"
            ],
            "text/html": [
              "\n",
              "     <input type=\"file\" id=\"files-4d33edae-0a98-473c-9cc2-a4068eee26ec\" name=\"files[]\" multiple disabled\n",
              "        style=\"border:none\" />\n",
              "     <output id=\"result-4d33edae-0a98-473c-9cc2-a4068eee26ec\">\n",
              "      Upload widget is only available when the cell has been executed in the\n",
              "      current browser session. Please rerun this cell to enable.\n",
              "      </output>\n",
              "      <script>// Copyright 2017 Google LLC\n",
              "//\n",
              "// Licensed under the Apache License, Version 2.0 (the \"License\");\n",
              "// you may not use this file except in compliance with the License.\n",
              "// You may obtain a copy of the License at\n",
              "//\n",
              "//      http://www.apache.org/licenses/LICENSE-2.0\n",
              "//\n",
              "// Unless required by applicable law or agreed to in writing, software\n",
              "// distributed under the License is distributed on an \"AS IS\" BASIS,\n",
              "// WITHOUT WARRANTIES OR CONDITIONS OF ANY KIND, either express or implied.\n",
              "// See the License for the specific language governing permissions and\n",
              "// limitations under the License.\n",
              "\n",
              "/**\n",
              " * @fileoverview Helpers for google.colab Python module.\n",
              " */\n",
              "(function(scope) {\n",
              "function span(text, styleAttributes = {}) {\n",
              "  const element = document.createElement('span');\n",
              "  element.textContent = text;\n",
              "  for (const key of Object.keys(styleAttributes)) {\n",
              "    element.style[key] = styleAttributes[key];\n",
              "  }\n",
              "  return element;\n",
              "}\n",
              "\n",
              "// Max number of bytes which will be uploaded at a time.\n",
              "const MAX_PAYLOAD_SIZE = 100 * 1024;\n",
              "\n",
              "function _uploadFiles(inputId, outputId) {\n",
              "  const steps = uploadFilesStep(inputId, outputId);\n",
              "  const outputElement = document.getElementById(outputId);\n",
              "  // Cache steps on the outputElement to make it available for the next call\n",
              "  // to uploadFilesContinue from Python.\n",
              "  outputElement.steps = steps;\n",
              "\n",
              "  return _uploadFilesContinue(outputId);\n",
              "}\n",
              "\n",
              "// This is roughly an async generator (not supported in the browser yet),\n",
              "// where there are multiple asynchronous steps and the Python side is going\n",
              "// to poll for completion of each step.\n",
              "// This uses a Promise to block the python side on completion of each step,\n",
              "// then passes the result of the previous step as the input to the next step.\n",
              "function _uploadFilesContinue(outputId) {\n",
              "  const outputElement = document.getElementById(outputId);\n",
              "  const steps = outputElement.steps;\n",
              "\n",
              "  const next = steps.next(outputElement.lastPromiseValue);\n",
              "  return Promise.resolve(next.value.promise).then((value) => {\n",
              "    // Cache the last promise value to make it available to the next\n",
              "    // step of the generator.\n",
              "    outputElement.lastPromiseValue = value;\n",
              "    return next.value.response;\n",
              "  });\n",
              "}\n",
              "\n",
              "/**\n",
              " * Generator function which is called between each async step of the upload\n",
              " * process.\n",
              " * @param {string} inputId Element ID of the input file picker element.\n",
              " * @param {string} outputId Element ID of the output display.\n",
              " * @return {!Iterable<!Object>} Iterable of next steps.\n",
              " */\n",
              "function* uploadFilesStep(inputId, outputId) {\n",
              "  const inputElement = document.getElementById(inputId);\n",
              "  inputElement.disabled = false;\n",
              "\n",
              "  const outputElement = document.getElementById(outputId);\n",
              "  outputElement.innerHTML = '';\n",
              "\n",
              "  const pickedPromise = new Promise((resolve) => {\n",
              "    inputElement.addEventListener('change', (e) => {\n",
              "      resolve(e.target.files);\n",
              "    });\n",
              "  });\n",
              "\n",
              "  const cancel = document.createElement('button');\n",
              "  inputElement.parentElement.appendChild(cancel);\n",
              "  cancel.textContent = 'Cancel upload';\n",
              "  const cancelPromise = new Promise((resolve) => {\n",
              "    cancel.onclick = () => {\n",
              "      resolve(null);\n",
              "    };\n",
              "  });\n",
              "\n",
              "  // Wait for the user to pick the files.\n",
              "  const files = yield {\n",
              "    promise: Promise.race([pickedPromise, cancelPromise]),\n",
              "    response: {\n",
              "      action: 'starting',\n",
              "    }\n",
              "  };\n",
              "\n",
              "  cancel.remove();\n",
              "\n",
              "  // Disable the input element since further picks are not allowed.\n",
              "  inputElement.disabled = true;\n",
              "\n",
              "  if (!files) {\n",
              "    return {\n",
              "      response: {\n",
              "        action: 'complete',\n",
              "      }\n",
              "    };\n",
              "  }\n",
              "\n",
              "  for (const file of files) {\n",
              "    const li = document.createElement('li');\n",
              "    li.append(span(file.name, {fontWeight: 'bold'}));\n",
              "    li.append(span(\n",
              "        `(${file.type || 'n/a'}) - ${file.size} bytes, ` +\n",
              "        `last modified: ${\n",
              "            file.lastModifiedDate ? file.lastModifiedDate.toLocaleDateString() :\n",
              "                                    'n/a'} - `));\n",
              "    const percent = span('0% done');\n",
              "    li.appendChild(percent);\n",
              "\n",
              "    outputElement.appendChild(li);\n",
              "\n",
              "    const fileDataPromise = new Promise((resolve) => {\n",
              "      const reader = new FileReader();\n",
              "      reader.onload = (e) => {\n",
              "        resolve(e.target.result);\n",
              "      };\n",
              "      reader.readAsArrayBuffer(file);\n",
              "    });\n",
              "    // Wait for the data to be ready.\n",
              "    let fileData = yield {\n",
              "      promise: fileDataPromise,\n",
              "      response: {\n",
              "        action: 'continue',\n",
              "      }\n",
              "    };\n",
              "\n",
              "    // Use a chunked sending to avoid message size limits. See b/62115660.\n",
              "    let position = 0;\n",
              "    do {\n",
              "      const length = Math.min(fileData.byteLength - position, MAX_PAYLOAD_SIZE);\n",
              "      const chunk = new Uint8Array(fileData, position, length);\n",
              "      position += length;\n",
              "\n",
              "      const base64 = btoa(String.fromCharCode.apply(null, chunk));\n",
              "      yield {\n",
              "        response: {\n",
              "          action: 'append',\n",
              "          file: file.name,\n",
              "          data: base64,\n",
              "        },\n",
              "      };\n",
              "\n",
              "      let percentDone = fileData.byteLength === 0 ?\n",
              "          100 :\n",
              "          Math.round((position / fileData.byteLength) * 100);\n",
              "      percent.textContent = `${percentDone}% done`;\n",
              "\n",
              "    } while (position < fileData.byteLength);\n",
              "  }\n",
              "\n",
              "  // All done.\n",
              "  yield {\n",
              "    response: {\n",
              "      action: 'complete',\n",
              "    }\n",
              "  };\n",
              "}\n",
              "\n",
              "scope.google = scope.google || {};\n",
              "scope.google.colab = scope.google.colab || {};\n",
              "scope.google.colab._files = {\n",
              "  _uploadFiles,\n",
              "  _uploadFilesContinue,\n",
              "};\n",
              "})(self);\n",
              "</script> "
            ]
          },
          "metadata": {}
        },
        {
          "output_type": "stream",
          "name": "stdout",
          "text": [
            "Saving winequality_red.xlsx to winequality_red.xlsx\n"
          ]
        }
      ]
    },
    {
      "cell_type": "code",
      "source": [
        "from google.colab import files\n",
        "\n",
        "# Upload the file to the Colab environment\n",
        "uploaded = files.upload()"
      ],
      "metadata": {
        "colab": {
          "base_uri": "https://localhost:8080/",
          "height": 73
        },
        "id": "oUJaC1u5dsmi",
        "outputId": "8140a04d-20f1-413a-81c4-74afd1e728bc"
      },
      "execution_count": null,
      "outputs": [
        {
          "output_type": "display_data",
          "data": {
            "text/plain": [
              "<IPython.core.display.HTML object>"
            ],
            "text/html": [
              "\n",
              "     <input type=\"file\" id=\"files-af6ec53b-61e4-4e92-ae37-bd091efa9edd\" name=\"files[]\" multiple disabled\n",
              "        style=\"border:none\" />\n",
              "     <output id=\"result-af6ec53b-61e4-4e92-ae37-bd091efa9edd\">\n",
              "      Upload widget is only available when the cell has been executed in the\n",
              "      current browser session. Please rerun this cell to enable.\n",
              "      </output>\n",
              "      <script>// Copyright 2017 Google LLC\n",
              "//\n",
              "// Licensed under the Apache License, Version 2.0 (the \"License\");\n",
              "// you may not use this file except in compliance with the License.\n",
              "// You may obtain a copy of the License at\n",
              "//\n",
              "//      http://www.apache.org/licenses/LICENSE-2.0\n",
              "//\n",
              "// Unless required by applicable law or agreed to in writing, software\n",
              "// distributed under the License is distributed on an \"AS IS\" BASIS,\n",
              "// WITHOUT WARRANTIES OR CONDITIONS OF ANY KIND, either express or implied.\n",
              "// See the License for the specific language governing permissions and\n",
              "// limitations under the License.\n",
              "\n",
              "/**\n",
              " * @fileoverview Helpers for google.colab Python module.\n",
              " */\n",
              "(function(scope) {\n",
              "function span(text, styleAttributes = {}) {\n",
              "  const element = document.createElement('span');\n",
              "  element.textContent = text;\n",
              "  for (const key of Object.keys(styleAttributes)) {\n",
              "    element.style[key] = styleAttributes[key];\n",
              "  }\n",
              "  return element;\n",
              "}\n",
              "\n",
              "// Max number of bytes which will be uploaded at a time.\n",
              "const MAX_PAYLOAD_SIZE = 100 * 1024;\n",
              "\n",
              "function _uploadFiles(inputId, outputId) {\n",
              "  const steps = uploadFilesStep(inputId, outputId);\n",
              "  const outputElement = document.getElementById(outputId);\n",
              "  // Cache steps on the outputElement to make it available for the next call\n",
              "  // to uploadFilesContinue from Python.\n",
              "  outputElement.steps = steps;\n",
              "\n",
              "  return _uploadFilesContinue(outputId);\n",
              "}\n",
              "\n",
              "// This is roughly an async generator (not supported in the browser yet),\n",
              "// where there are multiple asynchronous steps and the Python side is going\n",
              "// to poll for completion of each step.\n",
              "// This uses a Promise to block the python side on completion of each step,\n",
              "// then passes the result of the previous step as the input to the next step.\n",
              "function _uploadFilesContinue(outputId) {\n",
              "  const outputElement = document.getElementById(outputId);\n",
              "  const steps = outputElement.steps;\n",
              "\n",
              "  const next = steps.next(outputElement.lastPromiseValue);\n",
              "  return Promise.resolve(next.value.promise).then((value) => {\n",
              "    // Cache the last promise value to make it available to the next\n",
              "    // step of the generator.\n",
              "    outputElement.lastPromiseValue = value;\n",
              "    return next.value.response;\n",
              "  });\n",
              "}\n",
              "\n",
              "/**\n",
              " * Generator function which is called between each async step of the upload\n",
              " * process.\n",
              " * @param {string} inputId Element ID of the input file picker element.\n",
              " * @param {string} outputId Element ID of the output display.\n",
              " * @return {!Iterable<!Object>} Iterable of next steps.\n",
              " */\n",
              "function* uploadFilesStep(inputId, outputId) {\n",
              "  const inputElement = document.getElementById(inputId);\n",
              "  inputElement.disabled = false;\n",
              "\n",
              "  const outputElement = document.getElementById(outputId);\n",
              "  outputElement.innerHTML = '';\n",
              "\n",
              "  const pickedPromise = new Promise((resolve) => {\n",
              "    inputElement.addEventListener('change', (e) => {\n",
              "      resolve(e.target.files);\n",
              "    });\n",
              "  });\n",
              "\n",
              "  const cancel = document.createElement('button');\n",
              "  inputElement.parentElement.appendChild(cancel);\n",
              "  cancel.textContent = 'Cancel upload';\n",
              "  const cancelPromise = new Promise((resolve) => {\n",
              "    cancel.onclick = () => {\n",
              "      resolve(null);\n",
              "    };\n",
              "  });\n",
              "\n",
              "  // Wait for the user to pick the files.\n",
              "  const files = yield {\n",
              "    promise: Promise.race([pickedPromise, cancelPromise]),\n",
              "    response: {\n",
              "      action: 'starting',\n",
              "    }\n",
              "  };\n",
              "\n",
              "  cancel.remove();\n",
              "\n",
              "  // Disable the input element since further picks are not allowed.\n",
              "  inputElement.disabled = true;\n",
              "\n",
              "  if (!files) {\n",
              "    return {\n",
              "      response: {\n",
              "        action: 'complete',\n",
              "      }\n",
              "    };\n",
              "  }\n",
              "\n",
              "  for (const file of files) {\n",
              "    const li = document.createElement('li');\n",
              "    li.append(span(file.name, {fontWeight: 'bold'}));\n",
              "    li.append(span(\n",
              "        `(${file.type || 'n/a'}) - ${file.size} bytes, ` +\n",
              "        `last modified: ${\n",
              "            file.lastModifiedDate ? file.lastModifiedDate.toLocaleDateString() :\n",
              "                                    'n/a'} - `));\n",
              "    const percent = span('0% done');\n",
              "    li.appendChild(percent);\n",
              "\n",
              "    outputElement.appendChild(li);\n",
              "\n",
              "    const fileDataPromise = new Promise((resolve) => {\n",
              "      const reader = new FileReader();\n",
              "      reader.onload = (e) => {\n",
              "        resolve(e.target.result);\n",
              "      };\n",
              "      reader.readAsArrayBuffer(file);\n",
              "    });\n",
              "    // Wait for the data to be ready.\n",
              "    let fileData = yield {\n",
              "      promise: fileDataPromise,\n",
              "      response: {\n",
              "        action: 'continue',\n",
              "      }\n",
              "    };\n",
              "\n",
              "    // Use a chunked sending to avoid message size limits. See b/62115660.\n",
              "    let position = 0;\n",
              "    do {\n",
              "      const length = Math.min(fileData.byteLength - position, MAX_PAYLOAD_SIZE);\n",
              "      const chunk = new Uint8Array(fileData, position, length);\n",
              "      position += length;\n",
              "\n",
              "      const base64 = btoa(String.fromCharCode.apply(null, chunk));\n",
              "      yield {\n",
              "        response: {\n",
              "          action: 'append',\n",
              "          file: file.name,\n",
              "          data: base64,\n",
              "        },\n",
              "      };\n",
              "\n",
              "      let percentDone = fileData.byteLength === 0 ?\n",
              "          100 :\n",
              "          Math.round((position / fileData.byteLength) * 100);\n",
              "      percent.textContent = `${percentDone}% done`;\n",
              "\n",
              "    } while (position < fileData.byteLength);\n",
              "  }\n",
              "\n",
              "  // All done.\n",
              "  yield {\n",
              "    response: {\n",
              "      action: 'complete',\n",
              "    }\n",
              "  };\n",
              "}\n",
              "\n",
              "scope.google = scope.google || {};\n",
              "scope.google.colab = scope.google.colab || {};\n",
              "scope.google.colab._files = {\n",
              "  _uploadFiles,\n",
              "  _uploadFilesContinue,\n",
              "};\n",
              "})(self);\n",
              "</script> "
            ]
          },
          "metadata": {}
        },
        {
          "output_type": "stream",
          "name": "stdout",
          "text": [
            "Saving winequality_white.xlsx to winequality_white.xlsx\n"
          ]
        }
      ]
    },
    {
      "cell_type": "code",
      "source": [
        "# Read the file into a DataFrame, making sure the filename matches exactly\n",
        "wine_white = pd.read_excel(\"winequality_white.xlsx\")\n",
        "wine_red = pd.read_excel(\"winequality_red.xlsx\")"
      ],
      "metadata": {
        "id": "8Jc2_5bFdtvv"
      },
      "execution_count": null,
      "outputs": []
    },
    {
      "cell_type": "code",
      "source": [
        "# Calcola la media della concentrazione alcolica per ogni qualità (vino bianco)\n",
        "media_alcol_per_qualita_white = wine_white.groupby(\"qualityw\")[\"alcoholw\"].mean()\n",
        "print(\"Media della concentrazione alcolica per qualità (vino bianco):\")\n",
        "print(media_alcol_per_qualita_white)\n",
        "\n",
        "# Calcola la media della concentrazione alcolica per ogni qualità (vino rosso)\n",
        "media_alcol_per_qualita_red = wine_red.groupby(\"qualityr\")[\"alcoholr\"].mean()\n",
        "print(\"\\nMedia della concentrazione alcolica per qualità (vino rosso):\")\n",
        "print(media_alcol_per_qualita_red)\n",
        "\n",
        "# Calcola la media totale della concentrazione alcolica (vino bianco)\n",
        "media_alcol_totale_white = wine_white[\"alcoholw\"].mean()\n",
        "print(\"\\nMedia totale della concentrazione alcolica (vino bianco):\", media_alcol_totale_white)\n",
        "\n",
        "# Calcola la media totale della concentrazione alcolica (vino rosso)\n",
        "media_alcol_totale_red = wine_red[\"alcoholr\"].mean()\n",
        "print(\"Media totale della concentrazione alcolica (vino rosso):\", media_alcol_totale_red)\n",
        "\n",
        "for quality, alcohol_mean in media_alcol_per_qualita_white.items():\n",
        "    white_diff = alcohol_mean - media_alcol_totale_white\n",
        "    print(f\"Differenza tra media della concentrazione alcolica per qualità {quality} (vino bianco) e media totale (vino bianco): {white_diff}\")\n",
        "for quality, alcohol_mean in media_alcol_per_qualita_red.items():\n",
        "    red_diff = alcohol_mean - media_alcol_totale_red\n",
        "    print(f\"Differenza tra media della concentrazione alcolica per qualità {quality} (vino rosso) e media totale (vino rosso): {red_diff}\")\n"
      ],
      "metadata": {
        "colab": {
          "base_uri": "https://localhost:8080/"
        },
        "id": "fGHpj7m6GMd_",
        "outputId": "268293fc-b8fa-4975-a2c4-89613db34149"
      },
      "execution_count": null,
      "outputs": [
        {
          "output_type": "stream",
          "name": "stdout",
          "text": [
            "Media della concentrazione alcolica per qualità (vino bianco):\n",
            "qualityw\n",
            "3    10.345000\n",
            "4    10.152454\n",
            "5     9.808840\n",
            "6    10.575372\n",
            "7    11.367936\n",
            "8    11.636000\n",
            "9    12.180000\n",
            "Name: alcoholw, dtype: float64\n",
            "\n",
            "Media della concentrazione alcolica per qualità (vino rosso):\n",
            "qualityr\n",
            "3     9.955000\n",
            "4    10.265094\n",
            "5     9.899706\n",
            "6    10.629519\n",
            "7    11.465913\n",
            "8    12.094444\n",
            "Name: alcoholr, dtype: float64\n",
            "\n",
            "Media totale della concentrazione alcolica (vino bianco): 10.51426704777011\n",
            "Media totale della concentrazione alcolica (vino rosso): 10.422983114446529\n",
            "Differenza tra media della concentrazione alcolica per qualità 3 (vino bianco) e media totale (vino bianco): -0.16926704777010926\n",
            "Differenza tra media della concentrazione alcolica per qualità 4 (vino bianco) e media totale (vino bianco): -0.3618130600400491\n",
            "Differenza tra media della concentrazione alcolica per qualità 5 (vino bianco) e media totale (vino bianco): -0.705426965407721\n",
            "Differenza tra media della concentrazione alcolica per qualità 6 (vino bianco) e media totale (vino bianco): 0.06110450211433083\n",
            "Differenza tra media della concentrazione alcolica per qualità 7 (vino bianco) e media totale (vino bianco): 0.8536685582867083\n",
            "Differenza tra media della concentrazione alcolica per qualità 8 (vino bianco) e media totale (vino bianco): 1.1217329522298893\n",
            "Differenza tra media della concentrazione alcolica per qualità 9 (vino bianco) e media totale (vino bianco): 1.6657329522298898\n",
            "Differenza tra media della concentrazione alcolica per qualità 3 (vino rosso) e media totale (vino rosso): -0.46798311444652896\n",
            "Differenza tra media della concentrazione alcolica per qualità 4 (vino rosso) e media totale (vino rosso): -0.1578887748238884\n",
            "Differenza tra media della concentrazione alcolica per qualità 5 (vino rosso) e media totale (vino rosso): -0.5232768002027708\n",
            "Differenza tra media della concentrazione alcolica per qualità 6 (vino rosso) e media totale (vino rosso): 0.20653621679171508\n",
            "Differenza tra media della concentrazione alcolica per qualità 7 (vino rosso) e media totale (vino rosso): 1.0429297833926672\n",
            "Differenza tra media della concentrazione alcolica per qualità 8 (vino rosso) e media totale (vino rosso): 1.6714613299979142\n"
          ]
        }
      ]
    },
    {
      "cell_type": "code",
      "source": [
        "# Calcola le statistiche descrittive per la concentrazione di alcol nei vini bianchi\n",
        "descrizione_alcol_bianchi = wine_white['alcoholw'].describe()\n",
        "print(\"\\nStatistiche descrittive per la concentrazione di alcol nei vini bianchi:\")\n",
        "print(descrizione_alcol_bianchi)\n",
        "\n",
        "# Calcola le statistiche descrittive per la concentrazione di alcol nei vini rossi\n",
        "descrizione_alcol_rossi = wine_red['alcoholr'].describe()\n",
        "print(\"\\nStatistiche descrittive per la concentrazione di alcol nei vini rossi:\")\n",
        "print(descrizione_alcol_rossi)\n"
      ],
      "metadata": {
        "colab": {
          "base_uri": "https://localhost:8080/"
        },
        "collapsed": true,
        "id": "yAC53MywJQ9A",
        "outputId": "1891484a-7441-47a2-ba15-84c35b6860c8"
      },
      "execution_count": null,
      "outputs": [
        {
          "output_type": "stream",
          "name": "stdout",
          "text": [
            "\n",
            "Statistiche descrittive per la concentrazione di alcol nei vini bianchi:\n",
            "count    4898.000000\n",
            "mean       10.514267\n",
            "std         1.230621\n",
            "min         8.000000\n",
            "25%         9.500000\n",
            "50%        10.400000\n",
            "75%        11.400000\n",
            "max        14.200000\n",
            "Name: alcoholw, dtype: float64\n",
            "\n",
            "Statistiche descrittive per la concentrazione di alcol nei vini rossi:\n",
            "count    1599.000000\n",
            "mean       10.422983\n",
            "std         1.065668\n",
            "min         8.400000\n",
            "25%         9.500000\n",
            "50%        10.200000\n",
            "75%        11.100000\n",
            "max        14.900000\n",
            "Name: alcoholr, dtype: float64\n"
          ]
        }
      ]
    },
    {
      "cell_type": "code",
      "source": [
        "\n",
        "media_pH_per_qualita_white = wine_white.groupby(\"qualityw\")[\"pHw\"].mean()\n",
        "print(\"Media del pH per qualità (vino bianco):\")\n",
        "print(media_pH_per_qualita_white)\n",
        "\n",
        "media_pH_per_qualita_red = wine_red.groupby(\"qualityr\")[\"pHr\"].mean()\n",
        "print(\"\\nMedia del pH per qualità (vino rosso):\")\n",
        "print(media_pH_per_qualita_red)\n",
        "\n",
        "media_pH_totale_white = wine_white[\"pHw\"].mean()\n",
        "print(\"\\nMedia totale del pH (vino bianco):\", media_pH_totale_white)\n",
        "\n",
        "media_pH_totale_red = wine_red[\"pHr\"].mean()\n",
        "print(\"Media totale del pH (vino rosso):\", media_pH_totale_red)\n",
        "\n",
        "for quality, pH_mean in media_pH_per_qualita_white.items():\n",
        "    white_diff = pH_mean - media_pH_totale_white\n",
        "    print(f\"Differenza tra media del pH per qualità {quality} (vino bianco) e media totale (vino bianco): {white_diff}\")\n",
        "for quality, pH_mean in media_pH_per_qualita_red.items():\n",
        "    red_diff = pH_mean - media_alcol_totale_red\n",
        "    print(f\"Differenza tra media del pH per qualità {quality} (vino rosso) e media totale (vino rosso): {red_diff}\")"
      ],
      "metadata": {
        "colab": {
          "base_uri": "https://localhost:8080/"
        },
        "collapsed": true,
        "id": "87Lxkg16LuC-",
        "outputId": "9de2e730-17b2-48ee-9fee-48b8bbf69753"
      },
      "execution_count": null,
      "outputs": [
        {
          "output_type": "stream",
          "name": "stdout",
          "text": [
            "Media del pH per qualità (vino bianco):\n",
            "qualityw\n",
            "3    3.187500\n",
            "4    3.182883\n",
            "5    3.168833\n",
            "6    3.188599\n",
            "7    3.213898\n",
            "8    3.218686\n",
            "9    3.308000\n",
            "Name: pHw, dtype: float64\n",
            "\n",
            "Media del pH per qualità (vino rosso):\n",
            "qualityr\n",
            "3    3.398000\n",
            "4    3.381509\n",
            "5    3.304949\n",
            "6    3.318072\n",
            "7    3.290754\n",
            "8    3.267222\n",
            "Name: pHr, dtype: float64\n",
            "\n",
            "Media totale del pH (vino bianco): 3.1882666394446715\n",
            "Media totale del pH (vino rosso): 3.3111131957473416\n",
            "Differenza tra media del pH per qualità 3 (vino bianco) e media totale (vino bianco): -0.0007666394446714797\n",
            "Differenza tra media del pH per qualità 4 (vino bianco) e media totale (vino bianco): -0.005383203861849761\n",
            "Differenza tra media del pH per qualità 5 (vino bianco) e media totale (vino bianco): -0.01943342050163821\n",
            "Differenza tra media del pH per qualità 6 (vino bianco) e media totale (vino bianco): 0.00033208666997808223\n",
            "Differenza tra media del pH per qualità 7 (vino bianco) e media totale (vino bianco): 0.025631087828055676\n",
            "Differenza tra media del pH per qualità 8 (vino bianco) e media totale (vino bianco): 0.030419074841042892\n",
            "Differenza tra media del pH per qualità 9 (vino bianco) e media totale (vino bianco): 0.11973336055532835\n",
            "Differenza tra media del pH per qualità 3 (vino rosso) e media totale (vino rosso): -7.024983114446529\n",
            "Differenza tra media del pH per qualità 4 (vino rosso) e media totale (vino rosso): -7.041473680484264\n",
            "Differenza tra media del pH per qualità 5 (vino rosso) e media totale (vino rosso): -7.118034509453871\n",
            "Differenza tra media del pH per qualità 6 (vino rosso) e media totale (vino rosso): -7.10491101413305\n",
            "Differenza tra media del pH per qualità 7 (vino rosso) e media totale (vino rosso): -7.132229345602308\n",
            "Differenza tra media del pH per qualità 8 (vino rosso) e media totale (vino rosso): -7.155760892224307\n"
          ]
        }
      ]
    },
    {
      "cell_type": "code",
      "source": [
        "\n",
        "descrizione_pH_bianchi = wine_white['pHw'].describe()\n",
        "print(\"\\nStatistiche descrittive per il pH nei vini bianchi:\")\n",
        "print(descrizione_pH_bianchi)\n",
        "\n",
        "descrizione_pH_rossi = wine_red['pHr'].describe()\n",
        "print(\"\\nStatistiche descrittive per il pH nei vini rossi:\")\n",
        "print(descrizione_pH_rossi)"
      ],
      "metadata": {
        "colab": {
          "base_uri": "https://localhost:8080/"
        },
        "collapsed": true,
        "id": "NI_RYqrQShr8",
        "outputId": "95921a6b-c972-4776-ca93-b370803e1de5"
      },
      "execution_count": null,
      "outputs": [
        {
          "output_type": "stream",
          "name": "stdout",
          "text": [
            "\n",
            "Statistiche descrittive per il pH nei vini bianchi:\n",
            "count    4898.000000\n",
            "mean        3.188267\n",
            "std         0.151001\n",
            "min         2.720000\n",
            "25%         3.090000\n",
            "50%         3.180000\n",
            "75%         3.280000\n",
            "max         3.820000\n",
            "Name: pHw, dtype: float64\n",
            "\n",
            "Statistiche descrittive per il pH nei vini rossi:\n",
            "count    1599.000000\n",
            "mean        3.311113\n",
            "std         0.154386\n",
            "min         2.740000\n",
            "25%         3.210000\n",
            "50%         3.310000\n",
            "75%         3.400000\n",
            "max         4.010000\n",
            "Name: pHr, dtype: float64\n"
          ]
        }
      ]
    },
    {
      "cell_type": "code",
      "source": [
        "#Nei beginner_datasets, il file boston.csv contiene il Boston Housing Dataset, che deriva dalle informazioni raccolte dal Census Service degli Stati Uniti sulle abitazioni nell'area di Boston. Di seguito vengono descritte le colonne del dataset: • CRIM - tasso di criminalità pro capite per città • ZN - proporzione di terreni residenziali suddivisi in zone per lotti superiori a 25.000 piedi quadrati. • INDUS - percentuale di acri di attività commerciali non al dettaglio per città. • CHAS - variabile dummy del fiume Charles (1 se il tratto costeggia il fiume; 0 altrimenti)#NOX - concentrazione di ossidi di azoto (parti per 10 milioni). • RM - numero medio di stanze per abitazione • AGE - proporzione di unità abitative occupate da proprietari costruite prima del 1940 • DIS - distanze ponderate da cinque centri occupazionali di Boston • RAD - indice di accessibilità alle autostrade radiali • TAX - aliquota dell'imposta fondiaria sul valore pieno per 10.000 dollari • PTRATIO - rapporto alunni-insegnanti per città • BLACK - la percentuale di neri per città • LSTAT - % di popolazione di condizione più bassa 8 • MEDV - Valore mediano delle case, espresso in migliaia di dollari"
      ],
      "metadata": {
        "id": "ZC6nM78FMdjI"
      },
      "execution_count": null,
      "outputs": []
    },
    {
      "cell_type": "code",
      "source": [
        "from google.colab import files\n",
        "\n",
        "# Upload the file to the Colab environment\n",
        "uploaded = files.upload()"
      ],
      "metadata": {
        "colab": {
          "base_uri": "https://localhost:8080/",
          "height": 73
        },
        "id": "RLiYhmmahxzE",
        "outputId": "5e7fce0a-ed7f-4038-f6c3-5d329ba5fdf6"
      },
      "execution_count": null,
      "outputs": [
        {
          "output_type": "display_data",
          "data": {
            "text/plain": [
              "<IPython.core.display.HTML object>"
            ],
            "text/html": [
              "\n",
              "     <input type=\"file\" id=\"files-99d52428-7f6e-440e-a6a8-6dbfac6c53e5\" name=\"files[]\" multiple disabled\n",
              "        style=\"border:none\" />\n",
              "     <output id=\"result-99d52428-7f6e-440e-a6a8-6dbfac6c53e5\">\n",
              "      Upload widget is only available when the cell has been executed in the\n",
              "      current browser session. Please rerun this cell to enable.\n",
              "      </output>\n",
              "      <script>// Copyright 2017 Google LLC\n",
              "//\n",
              "// Licensed under the Apache License, Version 2.0 (the \"License\");\n",
              "// you may not use this file except in compliance with the License.\n",
              "// You may obtain a copy of the License at\n",
              "//\n",
              "//      http://www.apache.org/licenses/LICENSE-2.0\n",
              "//\n",
              "// Unless required by applicable law or agreed to in writing, software\n",
              "// distributed under the License is distributed on an \"AS IS\" BASIS,\n",
              "// WITHOUT WARRANTIES OR CONDITIONS OF ANY KIND, either express or implied.\n",
              "// See the License for the specific language governing permissions and\n",
              "// limitations under the License.\n",
              "\n",
              "/**\n",
              " * @fileoverview Helpers for google.colab Python module.\n",
              " */\n",
              "(function(scope) {\n",
              "function span(text, styleAttributes = {}) {\n",
              "  const element = document.createElement('span');\n",
              "  element.textContent = text;\n",
              "  for (const key of Object.keys(styleAttributes)) {\n",
              "    element.style[key] = styleAttributes[key];\n",
              "  }\n",
              "  return element;\n",
              "}\n",
              "\n",
              "// Max number of bytes which will be uploaded at a time.\n",
              "const MAX_PAYLOAD_SIZE = 100 * 1024;\n",
              "\n",
              "function _uploadFiles(inputId, outputId) {\n",
              "  const steps = uploadFilesStep(inputId, outputId);\n",
              "  const outputElement = document.getElementById(outputId);\n",
              "  // Cache steps on the outputElement to make it available for the next call\n",
              "  // to uploadFilesContinue from Python.\n",
              "  outputElement.steps = steps;\n",
              "\n",
              "  return _uploadFilesContinue(outputId);\n",
              "}\n",
              "\n",
              "// This is roughly an async generator (not supported in the browser yet),\n",
              "// where there are multiple asynchronous steps and the Python side is going\n",
              "// to poll for completion of each step.\n",
              "// This uses a Promise to block the python side on completion of each step,\n",
              "// then passes the result of the previous step as the input to the next step.\n",
              "function _uploadFilesContinue(outputId) {\n",
              "  const outputElement = document.getElementById(outputId);\n",
              "  const steps = outputElement.steps;\n",
              "\n",
              "  const next = steps.next(outputElement.lastPromiseValue);\n",
              "  return Promise.resolve(next.value.promise).then((value) => {\n",
              "    // Cache the last promise value to make it available to the next\n",
              "    // step of the generator.\n",
              "    outputElement.lastPromiseValue = value;\n",
              "    return next.value.response;\n",
              "  });\n",
              "}\n",
              "\n",
              "/**\n",
              " * Generator function which is called between each async step of the upload\n",
              " * process.\n",
              " * @param {string} inputId Element ID of the input file picker element.\n",
              " * @param {string} outputId Element ID of the output display.\n",
              " * @return {!Iterable<!Object>} Iterable of next steps.\n",
              " */\n",
              "function* uploadFilesStep(inputId, outputId) {\n",
              "  const inputElement = document.getElementById(inputId);\n",
              "  inputElement.disabled = false;\n",
              "\n",
              "  const outputElement = document.getElementById(outputId);\n",
              "  outputElement.innerHTML = '';\n",
              "\n",
              "  const pickedPromise = new Promise((resolve) => {\n",
              "    inputElement.addEventListener('change', (e) => {\n",
              "      resolve(e.target.files);\n",
              "    });\n",
              "  });\n",
              "\n",
              "  const cancel = document.createElement('button');\n",
              "  inputElement.parentElement.appendChild(cancel);\n",
              "  cancel.textContent = 'Cancel upload';\n",
              "  const cancelPromise = new Promise((resolve) => {\n",
              "    cancel.onclick = () => {\n",
              "      resolve(null);\n",
              "    };\n",
              "  });\n",
              "\n",
              "  // Wait for the user to pick the files.\n",
              "  const files = yield {\n",
              "    promise: Promise.race([pickedPromise, cancelPromise]),\n",
              "    response: {\n",
              "      action: 'starting',\n",
              "    }\n",
              "  };\n",
              "\n",
              "  cancel.remove();\n",
              "\n",
              "  // Disable the input element since further picks are not allowed.\n",
              "  inputElement.disabled = true;\n",
              "\n",
              "  if (!files) {\n",
              "    return {\n",
              "      response: {\n",
              "        action: 'complete',\n",
              "      }\n",
              "    };\n",
              "  }\n",
              "\n",
              "  for (const file of files) {\n",
              "    const li = document.createElement('li');\n",
              "    li.append(span(file.name, {fontWeight: 'bold'}));\n",
              "    li.append(span(\n",
              "        `(${file.type || 'n/a'}) - ${file.size} bytes, ` +\n",
              "        `last modified: ${\n",
              "            file.lastModifiedDate ? file.lastModifiedDate.toLocaleDateString() :\n",
              "                                    'n/a'} - `));\n",
              "    const percent = span('0% done');\n",
              "    li.appendChild(percent);\n",
              "\n",
              "    outputElement.appendChild(li);\n",
              "\n",
              "    const fileDataPromise = new Promise((resolve) => {\n",
              "      const reader = new FileReader();\n",
              "      reader.onload = (e) => {\n",
              "        resolve(e.target.result);\n",
              "      };\n",
              "      reader.readAsArrayBuffer(file);\n",
              "    });\n",
              "    // Wait for the data to be ready.\n",
              "    let fileData = yield {\n",
              "      promise: fileDataPromise,\n",
              "      response: {\n",
              "        action: 'continue',\n",
              "      }\n",
              "    };\n",
              "\n",
              "    // Use a chunked sending to avoid message size limits. See b/62115660.\n",
              "    let position = 0;\n",
              "    do {\n",
              "      const length = Math.min(fileData.byteLength - position, MAX_PAYLOAD_SIZE);\n",
              "      const chunk = new Uint8Array(fileData, position, length);\n",
              "      position += length;\n",
              "\n",
              "      const base64 = btoa(String.fromCharCode.apply(null, chunk));\n",
              "      yield {\n",
              "        response: {\n",
              "          action: 'append',\n",
              "          file: file.name,\n",
              "          data: base64,\n",
              "        },\n",
              "      };\n",
              "\n",
              "      let percentDone = fileData.byteLength === 0 ?\n",
              "          100 :\n",
              "          Math.round((position / fileData.byteLength) * 100);\n",
              "      percent.textContent = `${percentDone}% done`;\n",
              "\n",
              "    } while (position < fileData.byteLength);\n",
              "  }\n",
              "\n",
              "  // All done.\n",
              "  yield {\n",
              "    response: {\n",
              "      action: 'complete',\n",
              "    }\n",
              "  };\n",
              "}\n",
              "\n",
              "scope.google = scope.google || {};\n",
              "scope.google.colab = scope.google.colab || {};\n",
              "scope.google.colab._files = {\n",
              "  _uploadFiles,\n",
              "  _uploadFilesContinue,\n",
              "};\n",
              "})(self);\n",
              "</script> "
            ]
          },
          "metadata": {}
        },
        {
          "output_type": "stream",
          "name": "stdout",
          "text": [
            "Saving Boston.xlsx to Boston.xlsx\n"
          ]
        }
      ]
    },
    {
      "cell_type": "code",
      "source": [
        "# Read the file into a DataFrame, making sure the filename matches exactly\n",
        "boston = pd.read_excel(\"Boston.xlsx\")"
      ],
      "metadata": {
        "id": "rsFgztK1h6eU"
      },
      "execution_count": null,
      "outputs": []
    },
    {
      "cell_type": "code",
      "source": [
        "#La media del prezzo delle case cambia a seconda della distanza dal fiume Charles? • Si nota una correlazione tra il tasso di criminalità e il valore delle abitazioni? Come si può spiegare il risultato? • Qual è la media del numero di stanze (rm) rispetto al rapporto alunni-insegnanti (ptratio)? E del valore delle case (medv)? Appare esserci una qualche correlazione? Come si può spiegare il risultato? • Rispetto all'accessibilità alle autostrade, cambia qualcosa la media delle età delle abitazioni? E del numero di stanze? E delle tasse?"
      ],
      "metadata": {
        "id": "A8Hij_qfMxpa"
      },
      "execution_count": null,
      "outputs": []
    },
    {
      "cell_type": "code",
      "source": [
        "# Raggruppa i dati in base alla vicinanza al fiume Charles e calcola la media del prezzo delle case\n",
        "media_prezzo_per_fiume = boston.groupby(\"chas\")[\"medv\"].mean()\n",
        "\n",
        "# Sostituisci i valori 0 e 1 con etichette più descrittive\n",
        "media_prezzo_per_fiume = media_prezzo_per_fiume.rename(index={0: \"lontano dal fiume\", 1: \"vicino al fiume\"})\n",
        "\n",
        "print(\"\\nMedia del prezzo delle case in base alla vicinanza al fiume Charles:\")\n",
        "print(media_prezzo_per_fiume)\n"
      ],
      "metadata": {
        "colab": {
          "base_uri": "https://localhost:8080/"
        },
        "id": "NW8b-9mKkmep",
        "outputId": "9a9ce74d-df3a-435c-faa8-baeeda8bda06"
      },
      "execution_count": null,
      "outputs": [
        {
          "output_type": "stream",
          "name": "stdout",
          "text": [
            "\n",
            "Media del prezzo delle case in base alla vicinanza al fiume Charles:\n",
            "chas\n",
            "lontano dal fiume    22.093843\n",
            "vicino al fiume      28.440000\n",
            "Name: medv, dtype: float64\n"
          ]
        }
      ]
    },
    {
      "cell_type": "code",
      "source": [
        "# Calcola la correlazione tra il tasso di criminalità (CRIM) e il valore delle abitazioni (MEDV)\n",
        "correlazione_criminalita_valore = boston[\"crim\"].corr(boston[\"medv\"])\n",
        "\n",
        "print(\"\\nCorrelazione tra il tasso di criminalità e il valore delle abitazioni:\", correlazione_criminalita_valore)\n",
        "\n",
        "# Interpretazione del risultato\n",
        "if correlazione_criminalita_valore < 0:\n",
        "    print(\"Esiste una correlazione negativa tra il tasso di criminalità e il valore delle abitazioni.\")\n",
        "    print(\"Questo significa che all'aumentare del tasso di criminalità, il valore delle abitazioni tende a diminuire.\")\n",
        "elif correlazione_criminalita_valore > 0:\n",
        "    print(\"Esiste una correlazione positiva tra il tasso di criminalità e il valore delle abitazioni.\")\n",
        "    print(\"Questo significa che all'aumentare del tasso di criminalità, il valore delle abitazioni tende ad aumentare.\")\n",
        "else:\n",
        "    print(\"Non esiste una correlazione significativa tra il tasso di criminalità e il valore delle abitazioni.\")\n",
        "\n",
        "plt.scatter(boston[\"crim\"], boston[\"medv\"])\n",
        "plt.xlabel(\"Tasso di criminalità (CRIM)\")\n",
        "plt.ylabel(\"Valore mediano delle case (MEDV)\")\n",
        "plt.title(\"Correlazione tra tasso di criminalità e valore delle abitazioni\")\n",
        "plt.show()\n",
        "\n",
        "# Possibili spiegazioni del risultato\n",
        "print(\"\\nPossibili spiegazioni:\")\n",
        "print(\"- I quartieri con un alto tasso di criminalità potrebbero avere un valore delle abitazioni inferiore a causa della minore desiderabilità e della percezione di rischio.\")\n",
        "print(\"- Altri fattori potrebbero influenzare sia il tasso di criminalità che il valore delle abitazioni, come la posizione geografica, le condizioni socio-economiche e le infrastrutture.\")\n"
      ],
      "metadata": {
        "colab": {
          "base_uri": "https://localhost:8080/",
          "height": 611
        },
        "id": "Vbn6-dggCWxT",
        "outputId": "3295f083-f577-4c11-95a0-c716e7053074"
      },
      "execution_count": null,
      "outputs": [
        {
          "output_type": "stream",
          "name": "stdout",
          "text": [
            "\n",
            "Correlazione tra il tasso di criminalità e il valore delle abitazioni: -0.38830460858681143\n",
            "Esiste una correlazione negativa tra il tasso di criminalità e il valore delle abitazioni.\n",
            "Questo significa che all'aumentare del tasso di criminalità, il valore delle abitazioni tende a diminuire.\n"
          ]
        },
        {
          "output_type": "display_data",
          "data": {
            "text/plain": [
              "<Figure size 640x480 with 1 Axes>"
            ],
            "image/png": "[encoded data removed]"
          },
          "metadata": {}
        },
        {
          "output_type": "stream",
          "name": "stdout",
          "text": [
            "\n",
            "Possibili spiegazioni:\n",
            "- I quartieri con un alto tasso di criminalità potrebbero avere un valore delle abitazioni inferiore a causa della minore desiderabilità e della percezione di rischio.\n",
            "- Altri fattori potrebbero influenzare sia il tasso di criminalità che il valore delle abitazioni, come la posizione geografica, le condizioni socio-economiche e le infrastrutture.\n"
          ]
        }
      ]
    },
    {
      "cell_type": "code",
      "source": [
        "# Calcola la media del numero di stanze (rm) rispetto al rapporto alunni-insegnanti (ptratio)\n",
        "media_stanze_per_ptratio = boston.groupby(\"ptratio\")[\"rm\"].mean()\n",
        "print(\"\\nMedia del numero di stanze per rapporto alunni-insegnanti:\")\n",
        "print(media_stanze_per_ptratio)\n",
        "\n",
        "# Calcola la media del valore delle case (medv) rispetto al rapporto alunni-insegnanti (ptratio)\n",
        "media_valore_case_per_ptratio = boston.groupby(\"ptratio\")[\"medv\"].mean()\n",
        "print(\"\\nMedia del valore delle case per rapporto alunni-insegnanti:\")\n",
        "print(media_valore_case_per_ptratio)\n",
        "\n",
        "# Calcola la correlazione tra il numero di stanze (rm) e il rapporto alunni-insegnanti (ptratio)\n",
        "correlazione_stanze_ptratio = boston[\"rm\"].corr(boston[\"ptratio\"])\n",
        "print(\"\\nCorrelazione tra il numero di stanze e il rapporto alunni-insegnanti:\", correlazione_stanze_ptratio)\n",
        "\n",
        "# Calcola la correlazione tra il valore delle case (medv) e il rapporto alunni-insegnanti (ptratio)\n",
        "correlazione_valore_case_ptratio = boston[\"medv\"].corr(boston[\"ptratio\"])\n",
        "print(\"\\nCorrelazione tra il valore delle case e il rapporto alunni-insegnanti:\", correlazione_valore_case_ptratio)\n",
        "\n",
        "# Visualizza la correlazione tra il numero di stanze e il rapporto alunni-insegnanti\n",
        "plt.scatter(boston[\"ptratio\"], boston[\"rm\"])\n",
        "plt.xlabel(\"Rapporto alunni-insegnanti per città (PTRATIO)\")\n",
        "plt.ylabel(\"Numero medio di stanze per abitazione (RM)\")\n",
        "plt.title(\"Correlazione tra numero di stanze e rapporto alunni-insegnanti\")\n",
        "plt.show()\n",
        "\n",
        "# Visualizza la correlazione tra il valore delle case e il rapporto alunni-insegnanti\n",
        "plt.scatter(boston[\"ptratio\"], boston[\"medv\"])\n",
        "plt.xlabel(\"Rapporto alunni-insegnanti per città (PTRATIO)\")\n",
        "plt.ylabel(\"Valore mediano delle case (MEDV)\")\n",
        "plt.title(\"Correlazione tra valore delle case e rapporto alunni-insegnanti\")\n",
        "plt.show()\n",
        "\n",
        "# Interpretazione del risultato\n",
        "print(\"\\nInterpretazione del risultato:\")\n",
        "if correlazione_stanze_ptratio < 0:\n",
        "    print(\"- Esiste una correlazione negativa tra il numero di stanze e il rapporto alunni-insegnanti.\")\n",
        "    print(\"- Questo potrebbe indicare che in aree con un rapporto alunni-insegnanti più elevato (più studenti per insegnante), le abitazioni tendono ad avere un numero medio di stanze inferiore.\")\n",
        "elif correlazione_stanze_ptratio > 0:\n",
        "    print(\"- Esiste una correlazione positiva tra il numero di stanze e il rapporto alunni-insegnanti.\")\n",
        "    print(\"- Questo potrebbe indicare che in aree con un rapporto alunni-insegnanti più elevato, le abitazioni tendono ad avere un numero medio di stanze superiore.\")\n",
        "else:\n",
        "    print(\"- Non esiste una correlazione significativa tra il numero di stanze e il rapporto alunni-insegnanti.\")\n",
        "\n",
        "if correlazione_valore_case_ptratio < 0:\n",
        "    print(\"- Esiste una correlazione negativa tra il valore delle case e il rapporto alunni-insegnanti.\")\n",
        "    print(\"- Questo potrebbe indicare che in aree con un rapporto alunni-insegnanti più elevato, il valore delle case tende a diminuire.\")\n",
        "elif correlazione_valore_case_ptratio > 0:\n",
        "    print(\"- Esiste una correlazione positiva tra il valore delle case e il rapporto alunni-insegnanti.\")\n",
        "    print(\"- Questo potrebbe indicare che in aree con un rapporto alunni-insegnanti più elevato, il valore delle case tende ad aumentare.\")\n",
        "else:\n",
        "    print(\"- Non esiste una correlazione significativa tra il valore delle case e il rapporto alunni-insegnanti.\")\n",
        "\n",
        "# Possibili spiegazioni del risultato\n",
        "print(\"\\nPossibili spiegazioni:\")\n",
        "print(\"- Il rapporto alunni-insegnanti può essere un indicatore della qualità dell'istruzione in un'area.\")\n",
        "print(\"- La qualità dell'istruzione può influenzare il valore delle case e il numero di stanze nelle abitazioni.\")\n",
        "print(\"- Altri fattori potrebbero influenzare sia il rapporto alunni-insegnanti che il valore delle case e il numero di stanze, come la posizione geografica, le condizioni socio-economiche e le infrastrutture.\")\n"
      ],
      "metadata": {
        "colab": {
          "base_uri": "https://localhost:8080/",
          "height": 1000
        },
        "id": "AOI4EDdIJHke",
        "outputId": "1ba7c069-95fb-4126-83c8-3c712a6cec2c"
      },
      "execution_count": null,
      "outputs": [
        {
          "output_type": "stream",
          "name": "stdout",
          "text": [
            "\n",
            "Media del numero di stanze per rapporto alunni-insegnanti:\n",
            "ptratio\n",
            "12.6    7.222667\n",
            "13.0    7.406167\n",
            "13.6    7.923000\n",
            "14.4    7.875000\n",
            "14.7    6.246235\n",
            "14.8    6.752333\n",
            "14.9    7.311250\n",
            "15.1    6.816000\n",
            "15.2    6.421923\n",
            "15.3    6.705333\n",
            "15.5    7.241000\n",
            "15.6    6.702000\n",
            "15.9    6.997000\n",
            "16.0    6.230600\n",
            "16.1    6.428800\n",
            "16.4    6.139667\n",
            "16.6    6.344188\n",
            "16.8    6.146750\n",
            "16.9    6.016400\n",
            "17.0    6.868250\n",
            "17.3    6.383000\n",
            "17.4    7.212333\n",
            "17.6    6.822429\n",
            "17.8    6.496130\n",
            "17.9    6.134818\n",
            "18.0    7.218600\n",
            "18.2    6.283000\n",
            "18.3    6.520500\n",
            "18.4    6.285938\n",
            "18.5    6.288750\n",
            "18.6    6.111588\n",
            "18.7    6.406556\n",
            "18.8    5.956000\n",
            "18.9    5.785667\n",
            "19.0    6.453750\n",
            "19.1    6.234882\n",
            "19.2    6.053632\n",
            "19.6    6.224000\n",
            "19.7    6.303250\n",
            "20.1    5.585400\n",
            "20.2    6.024021\n",
            "20.9    6.266273\n",
            "21.0    6.039778\n",
            "21.1    5.888000\n",
            "21.2    6.028533\n",
            "22.0    5.799500\n",
            "Name: rm, dtype: float64\n",
            "\n",
            "Media del valore delle case per rapporto alunni-insegnanti:\n",
            "ptratio\n",
            "12.6    32.733333\n",
            "13.0    38.025000\n",
            "13.6    50.000000\n",
            "14.4    50.000000\n",
            "14.7    25.717647\n",
            "14.8    25.433333\n",
            "14.9    40.475000\n",
            "15.1    31.600000\n",
            "15.2    26.276923\n",
            "15.3    26.066667\n",
            "15.5    32.700000\n",
            "15.6    30.100000\n",
            "15.9    30.250000\n",
            "16.0    24.320000\n",
            "16.1    24.880000\n",
            "16.4    23.216667\n",
            "16.6    23.856250\n",
            "16.8    22.150000\n",
            "16.9    19.640000\n",
            "17.0    30.600000\n",
            "17.3    24.700000\n",
            "17.4    33.544444\n",
            "17.6    30.700000\n",
            "17.8    26.956522\n",
            "17.9    22.363636\n",
            "18.0    33.100000\n",
            "18.2    22.150000\n",
            "18.3    27.100000\n",
            "18.4    23.131250\n",
            "18.5    23.800000\n",
            "18.6    24.335294\n",
            "18.7    25.122222\n",
            "18.8    17.350000\n",
            "18.9    20.100000\n",
            "19.0    24.900000\n",
            "19.1    22.894118\n",
            "19.2    22.805263\n",
            "19.6    22.575000\n",
            "19.7    21.787500\n",
            "20.1    12.800000\n",
            "20.2    16.611429\n",
            "20.9    21.118182\n",
            "21.0    17.351852\n",
            "21.1    18.900000\n",
            "21.2    17.093333\n",
            "22.0    19.400000\n",
            "Name: medv, dtype: float64\n",
            "\n",
            "Correlazione tra il numero di stanze e il rapporto alunni-insegnanti: -0.3555014945590848\n",
            "\n",
            "Correlazione tra il valore delle case e il rapporto alunni-insegnanti: -0.5077866855375616\n"
          ]
        },
        {
          "output_type": "display_data",
          "data": {
            "text/plain": [
              "<Figure size 640x480 with 1 Axes>"
            ],
            "image/png": "[encoded data removed]"
          },
          "metadata": {}
        },
        {
          "output_type": "display_data",
          "data": {
            "text/plain": [
              "<Figure size 640x480 with 1 Axes>"
            ],
            "image/png": "[encoded data removed]"
          },
          "metadata": {}
        },
        {
          "output_type": "stream",
          "name": "stdout",
          "text": [
            "\n",
            "Interpretazione del risultato:\n",
            "- Esiste una correlazione negativa tra il numero di stanze e il rapporto alunni-insegnanti.\n",
            "- Questo potrebbe indicare che in aree con un rapporto alunni-insegnanti più elevato (più studenti per insegnante), le abitazioni tendono ad avere un numero medio di stanze inferiore.\n",
            "- Esiste una correlazione negativa tra il valore delle case e il rapporto alunni-insegnanti.\n",
            "- Questo potrebbe indicare che in aree con un rapporto alunni-insegnanti più elevato, il valore delle case tende a diminuire.\n",
            "\n",
            "Possibili spiegazioni:\n",
            "- Il rapporto alunni-insegnanti può essere un indicatore della qualità dell'istruzione in un'area.\n",
            "- La qualità dell'istruzione può influenzare il valore delle case e il numero di stanze nelle abitazioni.\n",
            "- Altri fattori potrebbero influenzare sia il rapporto alunni-insegnanti che il valore delle case e il numero di stanze, come la posizione geografica, le condizioni socio-economiche e le infrastrutture.\n"
          ]
        }
      ]
    },
    {
      "cell_type": "code",
      "source": [
        "# Calcola la correlazione tra l'accessibilità alle autostrade (RAD) e la media delle età delle abitazioni (AGE)\n",
        "correlazione_rad_age = boston[\"rad\"].corr(boston[\"age\"])\n",
        "print(\"\\nCorrelazione tra accessibilità alle autostrade e media delle età delle abitazioni:\", correlazione_rad_age)\n",
        "\n",
        "# Visualizza la correlazione tra l'accessibilità alle autostrade (RAD) e la media delle età delle abitazioni (AGE) con uno scatter plot\n",
        "plt.scatter(boston[\"rad\"], boston[\"age\"])\n",
        "plt.xlabel(\"Indice di accessibilità alle autostrade radiali (RAD)\")\n",
        "plt.ylabel(\"Proporzione di unità abitative occupate da proprietari costruite prima del 1940 (AGE)\")\n",
        "plt.title(\"Correlazione tra accessibilità alle autostrade e media delle età delle abitazioni\")\n",
        "plt.show()\n",
        "\n",
        "# Calcola la correlazione tra l'accessibilità alle autostrade (RAD) e il numero di stanze (RM)\n",
        "correlazione_rad_rm = boston[\"rad\"].corr(boston[\"rm\"])\n",
        "print(\"\\nCorrelazione tra accessibilità alle autostrade e numero di stanze:\", correlazione_rad_rm)\n",
        "\n",
        "# Visualizza la correlazione tra l'accessibilità alle autostrade (RAD) e il numero di stanze (RM) con uno scatter plot\n",
        "plt.scatter(boston[\"rad\"], boston[\"rm\"])\n",
        "plt.xlabel(\"Indice di accessibilità alle autostrade radiali (RAD)\")\n",
        "plt.ylabel(\"Numero medio di stanze per abitazione (RM)\")\n",
        "plt.title(\"Correlazione tra accessibilità alle autostrade e numero di stanze\")\n",
        "plt.show()\n",
        "\n",
        "# Calcola la correlazione tra l'accessibilità alle autostrade (RAD) e le tasse (TAX)\n",
        "correlazione_rad_tax = boston[\"rad\"].corr(boston[\"tax\"])\n",
        "print(\"\\nCorrelazione tra accessibilità alle autostrade e tasse:\", correlazione_rad_tax)\n",
        "\n",
        "# Visualizza la correlazione tra l'accessibilità alle autostrade (RAD) e le tasse (TAX) con uno scatter plot\n",
        "plt.scatter(boston[\"rad\"], boston[\"tax\"])\n",
        "plt.xlabel(\"Indice di accessibilità alle autostrade radiali (RAD)\")\n",
        "plt.ylabel(\"Aliquota dell'imposta fondiaria sul valore pieno per 10.000 dollari (TAX)\")\n",
        "plt.title(\"Correlazione tra accessibilità alle autostrade e tasse\")\n",
        "plt.show()\n",
        "\n",
        "# Interpretazione del risultato\n",
        "if abs(correlazione_rad_age) < 1 and abs(correlazione_rad_age) > -1:\n",
        "    print(\"\\nNon esiste una correlazione significativa tra l'accessibilità alle autostrade e la media delle età delle abitazioni.\")\n",
        "else:\n",
        "    print(\"\\nEsiste una correlazione tra l'accessibilità alle autostrade e la media delle età delle abitazioni.\")\n",
        "    # Trova la funzione predittiva più idonea per la correlazione tra RAD e AGE\n",
        "    from sklearn.linear_model import LinearRegression\n",
        "    X = boston[[\"rad\"]]\n",
        "    y = boston[\"age\"]\n",
        "    model = LinearRegression()\n",
        "    model.fit(X, y)\n",
        "    print(\"\\nEquazione della retta di regressione per RAD e AGE:\", f\"y = {model.intercept_:.2f} + {model.coef_[0]:.2f} * x\")\n",
        "    # Visualizza la retta di regressione\n",
        "    plt.scatter(boston[\"rad\"], boston[\"age\"])\n",
        "    plt.plot(boston[\"rad\"], model.predict(boston[[\"rad\"]]), color='red')\n",
        "    plt.xlabel(\"Indice di accessibilità alle autostrade radiali (RAD)\")\n",
        "    plt.ylabel(\"Proporzione di unità abitative occupate da proprietari costruite prima del 1940 (AGE)\")\n",
        "    plt.title(\"Correlazione tra accessibilità alle autostrade e media delle età delle abitazioni con retta di regressione\")\n",
        "    plt.show()\n",
        "\n",
        "if abs(correlazione_rad_rm) < 1 and abs(correlazione_rad_rm) > -1:\n",
        "    print(\"\\nNon esiste una correlazione significativa tra l'accessibilità alle autostrade e il numero di stanze.\")\n",
        "else:\n",
        "    print(\"\\nEsiste una correlazione tra l'accessibilità alle autostrade e il numero di stanze.\")\n",
        "    # Trova la funzione predittiva più idonea per la correlazione tra RAD e RM\n",
        "    from sklearn.linear_model import LinearRegression\n",
        "    X = boston[[\"rad\"]]\n",
        "    y = boston[\"rm\"]\n",
        "    model = LinearRegression()\n",
        "    model.fit(X, y)\n",
        "    print(\"\\nEquazione della retta di regressione per RAD e RM:\", f\"y = {model.intercept_:.2f} + {model.coef_[0]:.2f} * x\")\n",
        "    # Visualizza la retta di regressione\n",
        "    plt.scatter(boston[\"rad\"], boston[\"rm\"])\n",
        "    plt.plot(boston[\"rad\"], model.predict(boston[[\"rad\"]]), color='red')\n",
        "    plt.xlabel(\"Indice di accessibilità alle autostrade radiali (RAD)\")\n",
        "    plt.ylabel(\"Numero medio di stanze per abitazione (RM)\")\n",
        "    plt.title(\"Correlazione tra accessibilità alle autostrade e numero di stanze con retta di regressione\")\n",
        "    plt.show()\n",
        "\n",
        "if abs(correlazione_rad_tax) < 1 and abs(correlazione_rad_tax) > -1:\n",
        "    print(\"\\nNon esiste una correlazione significativa tra l'accessibilità alle autostrade e le tasse.\")\n",
        "else:\n",
        "    print(\"\\nEsiste una correlazione tra l'accessibilità alle autostrade e le tasse.\")\n",
        "    # Trova la funzione predittiva più idonea per la correlazione tra RAD e TAX\n",
        "    from sklearn.linear_model import LinearRegression\n",
        "    X = boston[[\"rad\"]]\n",
        "    y = boston[\"tax\"]\n",
        "    model = LinearRegression()\n",
        "    model.fit(X, y)\n",
        "    print(\"\\nEquazione della retta di regressione per RAD e TAX:\", f\"y = {model.intercept_:.2f} + {model.coef_[0]:.2f} * x\")\n",
        "    # Visualizza la retta di regressione\n",
        "    plt.scatter(boston[\"rad\"], boston[\"tax\"])\n",
        "    plt.plot(boston[\"rad\"], model.predict(boston[[\"rad\"]]), color='red')\n",
        "    plt.xlabel(\"Indice di accessibilità alle autostrade radiali (RAD)\")\n",
        "    plt.ylabel(\"Aliquota dell'imposta fondiaria sul valore pieno per 10.000 dollari (TAX)\")\n",
        "    plt.title(\"Correlazione tra accessibilità alle autostrade e tasse con retta di regressione\")\n",
        "    plt.show()\n"
      ],
      "metadata": {
        "colab": {
          "base_uri": "https://localhost:8080/",
          "height": 1000
        },
        "id": "rJs7wwv61yiF",
        "outputId": "d9478034-8870-469c-a366-3ba7146c350f"
      },
      "execution_count": null,
      "outputs": [
        {
          "output_type": "stream",
          "name": "stdout",
          "text": [
            "\n",
            "Correlazione tra accessibilità alle autostrade e media delle età delle abitazioni: 0.4560224517516137\n"
          ]
        },
        {
          "output_type": "display_data",
          "data": {
            "text/plain": [
              "<Figure size 640x480 with 1 Axes>"
            ],
            "image/png": "[encoded data removed]"
          },
          "metadata": {}
        },
        {
          "output_type": "stream",
          "name": "stdout",
          "text": [
            "\n",
            "Correlazione tra accessibilità alle autostrade e numero di stanze: -0.20984666776610877\n"
          ]
        },
        {
          "output_type": "display_data",
          "data": {
            "text/plain": [
              "<Figure size 640x480 with 1 Axes>"
            ],
            "image/png": "[encoded data removed]"
          },
          "metadata": {}
        },
        {
          "output_type": "stream",
          "name": "stdout",
          "text": [
            "\n",
            "Correlazione tra accessibilità alle autostrade e tasse: 0.9102281885331835\n"
          ]
        },
        {
          "output_type": "display_data",
          "data": {
            "text/plain": [
              "<Figure size 640x480 with 1 Axes>"
            ],
            "image/png": "[encoded data removed]"
          },
          "metadata": {}
        },
        {
          "output_type": "stream",
          "name": "stdout",
          "text": [
            "\n",
            "Non esiste una correlazione significativa tra l'accessibilità alle autostrade e la media delle età delle abitazioni.\n",
            "\n",
            "Non esiste una correlazione significativa tra l'accessibilità alle autostrade e il numero di stanze.\n",
            "\n",
            "Non esiste una correlazione significativa tra l'accessibilità alle autostrade e le tasse.\n"
          ]
        }
      ]
    },
    {
      "cell_type": "code",
      "source": [
        "#Abbiamo un DataFrame di dipendenti: employees_df = pd.DataFrame({ 'employee_id': [101, 102, 103, 104, 105], 'name': ['Alice', 'Bob', 'Charlie', 'David', 'Emma'], 'department_id': [1, 2, 1, 2, 3] })"
      ],
      "metadata": {
        "id": "Y1oPx0yfMxgq"
      },
      "execution_count": null,
      "outputs": []
    },
    {
      "cell_type": "code",
      "source": [
        "#E un DataFrame di dipartimenti: departments_df = pd.DataFrame({ 'department_id': [1, 2, 3], 'department_name': ['HR', 'IT', 'Finance'], 'location': ['New York', 'San Francisco', 'Chicago'] })"
      ],
      "metadata": {
        "id": "uZLkLbYGM2fr"
      },
      "execution_count": null,
      "outputs": []
    },
    {
      "cell_type": "code",
      "source": [
        "#Unire questi DataFrame in base alla colonna comune department_id, in modo da avere nel risultato informazioni sia sui dipendenti che sui dipartimenti, usando la funzione .merge() • Per ogni DataFrame, trasformare la colonna department_id nell'indice, facendo in modo che la modifica sia permanente; poi unire i due dataset mediante il metodo .join() • Ci sono differenze nel risultato? Quali? Perché?"
      ],
      "metadata": {
        "id": "6JB1m9DPM9WG"
      },
      "execution_count": null,
      "outputs": []
    },
    {
      "cell_type": "code",
      "source": [
        "employees_df = pd.DataFrame({\n",
        "    'employee_id': [101, 102, 103, 104, 105],\n",
        "    'name': ['Alice', 'Bob', 'Charlie', 'David', 'Emma'],\n",
        "    'department_id': [1, 2, 1, 2, 3]\n",
        "})\n",
        "departments_df = pd.DataFrame({\n",
        "    'department_id': [1, 2, 3],\n",
        "    'department_name': ['HR', 'IT', 'Finance'],\n",
        "    'location': ['New York', 'San Francisco', 'Chicago']\n",
        "})"
      ],
      "metadata": {
        "id": "hiZjh6-M62DV"
      },
      "execution_count": null,
      "outputs": []
    },
    {
      "cell_type": "code",
      "source": [
        "# Unire i DataFrame usando .merge()\n",
        "merged_df = pd.merge(employees_df, departments_df, on='department_id')\n",
        "print(\"DataFrame unito con .merge():\\n\", merged_df)\n",
        "\n",
        "# Trasformare la colonna department_id nell'indice per entrambi i DataFrame\n",
        "employees_df.set_index('department_id', inplace=True)\n",
        "departments_df.set_index('department_id', inplace=True)\n",
        "\n",
        "# Unire i DataFrame usando .join()\n",
        "joined_df = employees_df.join(departments_df, how='left')\n",
        "print(\"\\nDataFrame unito con .join():\\n\", joined_df)\n",
        "\n",
        "# Confronto tra i risultati\n",
        "print(\"\\nDifferenze tra i risultati:\")\n",
        "print(\"- .merge() crea un nuovo DataFrame con tutte le colonne di entrambi i DataFrame, mantenendo le righe originali.\")\n",
        "print(\"- .join() unisce i DataFrame basandosi sull'indice, quindi le colonne del secondo DataFrame vengono aggiunte al primo DataFrame.\")\n"
      ],
      "metadata": {
        "colab": {
          "base_uri": "https://localhost:8080/"
        },
        "id": "uFJHHlvp7W1I",
        "outputId": "e91fb905-85ab-422c-c9d0-ecf8ad8e6606"
      },
      "execution_count": null,
      "outputs": [
        {
          "output_type": "stream",
          "name": "stdout",
          "text": [
            "DataFrame unito con .merge():\n",
            "    employee_id     name  department_id department_name       location\n",
            "0          101    Alice              1              HR       New York\n",
            "1          103  Charlie              1              HR       New York\n",
            "2          102      Bob              2              IT  San Francisco\n",
            "3          104    David              2              IT  San Francisco\n",
            "4          105     Emma              3         Finance        Chicago\n",
            "\n",
            "DataFrame unito con .join():\n",
            "                employee_id     name department_name       location\n",
            "department_id                                                     \n",
            "1                      101    Alice              HR       New York\n",
            "1                      103  Charlie              HR       New York\n",
            "2                      102      Bob              IT  San Francisco\n",
            "2                      104    David              IT  San Francisco\n",
            "3                      105     Emma         Finance        Chicago\n",
            "\n",
            "Differenze tra i risultati:\n",
            "- .merge() crea un nuovo DataFrame con tutte le colonne di entrambi i DataFrame, mantenendo le righe originali.\n",
            "- .join() unisce i DataFrame basandosi sull'indice, quindi le colonne del secondo DataFrame vengono aggiunte al primo DataFrame.\n"
          ]
        }
      ]
    },
    {
      "cell_type": "code",
      "source": [
        "#Dal database AdventureWorksDW importiamo le tabelle dimemployee e dimemployeesalesterritory come DataFrame • Effettuiamo un join tra i due DataFrame usando le colonne EmployeeKey • Controlliamo la dimensione del DataFrame risultante: è quella attesa? • Importiamo ora la tabella dimsalesterritory ed effettuiamo un join tra questa e il DataFrame risultante della join precedente, usando le colonne SalesTerritoryKey • Su questo DataFrame contare quanti dipendenti ci sono per ogni paese (country) e per ogni regione (region) • Valutiamo la media del BaseRate per ogni paese: ci sono differenze?"
      ],
      "metadata": {
        "id": "MF5DRVkANAvn"
      },
      "execution_count": null,
      "outputs": []
    },
    {
      "cell_type": "code",
      "source": [
        "!pip install pymysql"
      ],
      "metadata": {
        "colab": {
          "base_uri": "https://localhost:8080/"
        },
        "id": "k2Gfo7xqc2-p",
        "outputId": "b46c2721-9c10-437c-bdb5-d6194bf8510c"
      },
      "execution_count": 5,
      "outputs": [
        {
          "output_type": "stream",
          "name": "stdout",
          "text": [
            "Collecting pymysql\n",
            "  Downloading PyMySQL-1.1.1-py3-none-any.whl.metadata (4.4 kB)\n",
            "Downloading PyMySQL-1.1.1-py3-none-any.whl (44 kB)\n",
            "\u001b[2K   \u001b[90m━━━━━━━━━━━━━━━━━━━━━━━━━━━━━━━━━━━━━━━━\u001b[0m \u001b[32m45.0/45.0 kB\u001b[0m \u001b[31m2.3 MB/s\u001b[0m eta \u001b[36m0:00:00\u001b[0m\n",
            "\u001b[?25hInstalling collected packages: pymysql\n",
            "Successfully installed pymysql-1.1.1\n"
          ]
        }
      ]
    },
    {
      "cell_type": "code",
      "source": [
        "import pymysql"
      ],
      "metadata": {
        "id": "X9Lf6JNHdN8g"
      },
      "execution_count": 6,
      "outputs": []
    },
    {
      "cell_type": "code",
      "source": [
        "# Configurazione della connessione\n",
        "host = 'epicode-data-pt-mysql.cvetyjye2qbl.eu-central-1.rds.amazonaws.com'  # Indirizzo del server MySQL\n",
        "user = 'studente_dapt'  # Nome utente MySQL\n",
        "password = 'Ep1c0d3!!D4t4**4n4lys1s'  # Password MySQL\n",
        "database = 'AdventureWorksDW'  # Nome del database a cui collegarsi\n",
        "\n",
        "# Creazione della connessione al database\n",
        "connection = pymysql.connect(\n",
        "        host=host,\n",
        "        user=user,\n",
        "        password=password,\n",
        "        database=database\n",
        "    )\n",
        "\n",
        "query1 = \"SELECT * FROM dimemployee\"\n",
        "query2 = \"SELECT * FROM dimemployeesalesterritory\"\n",
        "query3 = \"SELECT * FROM dimsalesterritory\"\n",
        "db_engine = connection.cursor()\n",
        "df_dimemployee = pd.read_sql_query(query1, connection)\n",
        "df_dimemployeesalesterritory = pd.read_sql_query(query2, connection)\n",
        "df_dimsalesterritory = pd.read_sql_query(query3, connection)"
      ],
      "metadata": {
        "colab": {
          "base_uri": "https://localhost:8080/"
        },
        "id": "7PhqtXdvcUKI",
        "outputId": "e8a9ade1-221b-4c9a-eaaf-37b28020a04b"
      },
      "execution_count": 10,
      "outputs": [
        {
          "output_type": "stream",
          "name": "stderr",
          "text": [
            "<ipython-input-10-92bcb27c395f>:19: UserWarning: pandas only supports SQLAlchemy connectable (engine/connection) or database string URI or sqlite3 DBAPI2 connection. Other DBAPI2 objects are not tested. Please consider using SQLAlchemy.\n",
            "  df_dimemployee = pd.read_sql_query(query1, connection)\n",
            "<ipython-input-10-92bcb27c395f>:20: UserWarning: pandas only supports SQLAlchemy connectable (engine/connection) or database string URI or sqlite3 DBAPI2 connection. Other DBAPI2 objects are not tested. Please consider using SQLAlchemy.\n",
            "  df_dimemployeesalesterritory = pd.read_sql_query(query2, connection)\n",
            "<ipython-input-10-92bcb27c395f>:21: UserWarning: pandas only supports SQLAlchemy connectable (engine/connection) or database string URI or sqlite3 DBAPI2 connection. Other DBAPI2 objects are not tested. Please consider using SQLAlchemy.\n",
            "  df_dimsalesterritory = pd.read_sql_query(query3, connection)\n"
          ]
        }
      ]
    },
    {
      "cell_type": "code",
      "source": [
        "# Effettuiamo un join tra i due DataFrame usando le colonne EmployeeKey\n",
        "merged_df = pd.merge(df_dimemployee, df_dimemployeesalesterritory, on='EmployeeKey')\n"
      ],
      "metadata": {
        "id": "Kcc4wjNJdbnr"
      },
      "execution_count": 8,
      "outputs": []
    },
    {
      "cell_type": "code",
      "source": [
        "#Controlliamo la dimensione del DataFrame risultante\n",
        "print(\"Dimensioni del DataFrame risultante:\", merged_df.shape)\n"
      ],
      "metadata": {
        "colab": {
          "base_uri": "https://localhost:8080/"
        },
        "id": "bYF4_As1dqZa",
        "outputId": "8dcf5cfd-7d82-4e85-f698-af054d7c87ec"
      },
      "execution_count": 9,
      "outputs": [
        {
          "output_type": "stream",
          "name": "stdout",
          "text": [
            "Dimensioni del DataFrame risultante: (39, 29)\n"
          ]
        }
      ]
    },
    {
      "cell_type": "code",
      "source": [
        "# Effettuiamo un join tra il DataFrame risultante e dimsalesterritory usando le colonne SalesTerritoryKey\n",
        "final_df = pd.merge(merged_df, df_dimsalesterritory, on='SalesTerritoryKey')\n"
      ],
      "metadata": {
        "id": "6E54lsLtoQY8"
      },
      "execution_count": 11,
      "outputs": []
    },
    {
      "cell_type": "code",
      "source": [
        "print(final_df.head())"
      ],
      "metadata": {
        "colab": {
          "base_uri": "https://localhost:8080/"
        },
        "id": "-BfC7HrFq5lw",
        "outputId": "612874b8-b46c-48c0-dc87-8e7f44e626b0"
      },
      "execution_count": 13,
      "outputs": [
        {
          "output_type": "stream",
          "name": "stdout",
          "text": [
            "   EmployeeKey  ParentEmployeeKey  EmployeeNationalIDAlternateKey  \\\n",
            "0          272              277.0                       502097814   \n",
            "1          277              277.0                       112432117   \n",
            "2          286              272.0                        61161660   \n",
            "3          289              272.0                       987554265   \n",
            "4          293              272.0                        90836195   \n",
            "\n",
            "   ParentEmployeeNationalIDAlternateKey FirstName      LastName MiddleName  \\\n",
            "0                           112432117.0   Stephen         Jiang          Y   \n",
            "1                           112432117.0     Brian       Welcker          S   \n",
            "2                           502097814.0    Pamela  Ansman-Wolfe          O   \n",
            "3                           502097814.0     David      Campbell          R   \n",
            "4                           502097814.0      Tete   Mensa-Annan          A   \n",
            "\n",
            "   NameStyle                         Title    HireDate  ... SalesPersonFlag  \\\n",
            "0          0  North American Sales Manager  2010-08-04  ...               1   \n",
            "1          0             Director of Sales  2010-09-15  ...               1   \n",
            "2          0          Sales Representative  2010-12-29  ...               1   \n",
            "3          0          Sales Representative  2010-12-29  ...               1   \n",
            "4          0          Sales Representative  2012-04-30  ...               1   \n",
            "\n",
            "  DepartmentName                                      EmployeePhoto  \\\n",
            "0          Sales  b'\\xff\\xd8\\xff\\xe0\\x00\\x10JFIF\\x00\\x01\\x01\\x01...   \n",
            "1          Sales  b'\\xff\\xd8\\xff\\xe0\\x00\\x10JFIF\\x00\\x01\\x01\\x01...   \n",
            "2          Sales  b'\\x89PNG\\r\\n\\x1a\\n\\x00\\x00\\x00\\rIHDR\\x00\\x00\\...   \n",
            "3          Sales  b'\\xff\\xd8\\xff\\xe0\\x00\\x10JFIF\\x00\\x01\\x01\\x01...   \n",
            "4          Sales  b'\\xff\\xd8\\xff\\xe0\\x00\\x10JFIF\\x00\\x01\\x01\\x01...   \n",
            "\n",
            "               Position SalesTerritoryKey SalesTerritoryAlternateKey  \\\n",
            "0         Sales Manager                 1                          1   \n",
            "1        Sales Director                 1                          1   \n",
            "2  Sales Representative                 1                          1   \n",
            "3  Sales Representative                 1                          1   \n",
            "4  Sales Representative                 1                          1   \n",
            "\n",
            "  SalesTerritoryRegion  SalesTerritoryCountry SalesTerritoryGroup  \\\n",
            "0            Northwest          United States       North America   \n",
            "1            Northwest          United States       North America   \n",
            "2            Northwest          United States       North America   \n",
            "3            Northwest          United States       North America   \n",
            "4            Northwest          United States       North America   \n",
            "\n",
            "                                 SalesTerritoryImage  \n",
            "0  b'\\xff\\xd8\\xff\\xe0\\x00\\x10JFIF\\x00\\x01\\x01\\x01...  \n",
            "1  b'\\xff\\xd8\\xff\\xe0\\x00\\x10JFIF\\x00\\x01\\x01\\x01...  \n",
            "2  b'\\xff\\xd8\\xff\\xe0\\x00\\x10JFIF\\x00\\x01\\x01\\x01...  \n",
            "3  b'\\xff\\xd8\\xff\\xe0\\x00\\x10JFIF\\x00\\x01\\x01\\x01...  \n",
            "4  b'\\xff\\xd8\\xff\\xe0\\x00\\x10JFIF\\x00\\x01\\x01\\x01...  \n",
            "\n",
            "[5 rows x 34 columns]\n"
          ]
        }
      ]
    },
    {
      "cell_type": "code",
      "source": [
        "# Contare quanti dipendenti ci sono per ogni paese e regione\n",
        "dipendenti_per_paese_regione = final_df.groupby(['SalesTerritoryCountry', 'SalesTerritoryRegion'])['EmployeeKey'].count()\n",
        "print(\"\\nNumero di dipendenti per ogni paese e regione:\\n\", dipendenti_per_paese_regione)\n"
      ],
      "metadata": {
        "colab": {
          "base_uri": "https://localhost:8080/"
        },
        "id": "lmPlk4G4pv2-",
        "outputId": "bb4678fa-7fd7-42b7-847c-935e04d4e590"
      },
      "execution_count": 14,
      "outputs": [
        {
          "output_type": "stream",
          "name": "stdout",
          "text": [
            "\n",
            "Numero di dipendenti per ogni paese e regione:\n",
            " SalesTerritoryCountry  SalesTerritoryRegion\n",
            "Australia              Australia               3\n",
            "Canada                 Canada                  4\n",
            "France                 France                  4\n",
            "Germany                Germany                 3\n",
            "United Kingdom         United Kingdom          3\n",
            "United States          Central                 5\n",
            "                       Northeast               3\n",
            "                       Northwest               5\n",
            "                       Southeast               4\n",
            "                       Southwest               5\n",
            "Name: EmployeeKey, dtype: int64\n"
          ]
        }
      ]
    },
    {
      "cell_type": "code",
      "source": [
        "# prompt: calcola il base rate all'interno di final_df. ci sono differenze significative? prova con test-t su tutti gli stati\n",
        "\n",
        "# Calcola la media del BaseRate per ogni paese\n",
        "media_baserate_per_paese = final_df.groupby('SalesTerritoryCountry')['BaseRate'].mean()\n",
        "print(\"\\nMedia del BaseRate per ogni paese:\\n\", media_baserate_per_paese)\n",
        "\n",
        "# Importa la libreria per il test t\n",
        "from scipy import stats\n",
        "\n",
        "# Crea una lista di tutti i paesi\n",
        "paesi = final_df['SalesTerritoryCountry'].unique()\n",
        "\n",
        "# Esegui il test t per tutti i paesi\n",
        "for paese in paesi:\n",
        "  # Seleziona i dati per il paese corrente\n",
        "  dati_paese = final_df[final_df['SalesTerritoryCountry'] == paese]['BaseRate']\n",
        "  # Calcola la media del BaseRate per il paese corrente\n",
        "  media_baserate_paese = dati_paese.mean()\n",
        "  # Esegui il test t\n",
        "  t_stat, p_value = stats.ttest_ind(dati_paese, final_df['BaseRate'])\n",
        "  print(f\"\\nTest t per il paese {paese}:\")\n",
        "  print(f\"  Statistica t: {t_stat:.2f}\")\n",
        "  print(f\"  P-value: {p_value:.3f}\")\n",
        "  # Verifica se il p-value è inferiore al livello di significatività (ad esempio, 0.05)\n",
        "  if p_value < 0.05:\n",
        "    print(\"  Differenza significativa nel BaseRate per questo paese.\")\n",
        "  else:\n",
        "    print(\"  Nessuna differenza significativa nel BaseRate per questo paese.\")\n"
      ],
      "metadata": {
        "colab": {
          "base_uri": "https://localhost:8080/"
        },
        "id": "mY_ovtVmtFKo",
        "outputId": "6a3592ec-e53d-4314-be24-72e952e4e401"
      },
      "execution_count": 20,
      "outputs": [
        {
          "output_type": "stream",
          "name": "stdout",
          "text": [
            "\n",
            "Media del BaseRate per ogni paese:\n",
            " SalesTerritoryCountry\n",
            "Australia         47.764433\n",
            "Canada            41.592550\n",
            "France            41.592550\n",
            "Germany           47.764433\n",
            "United Kingdom    47.764433\n",
            "United States     39.909309\n",
            "Name: BaseRate, dtype: float64\n",
            "\n",
            "Test t per il paese United States:\n",
            "  Statistica t: -0.39\n",
            "  P-value: 0.697\n",
            "  Nessuna differenza significativa nel BaseRate per questo paese.\n",
            "\n",
            "Test t per il paese Canada:\n",
            "  Statistica t: -0.04\n",
            "  P-value: 0.966\n",
            "  Nessuna differenza significativa nel BaseRate per questo paese.\n",
            "\n",
            "Test t per il paese France:\n",
            "  Statistica t: -0.04\n",
            "  P-value: 0.966\n",
            "  Nessuna differenza significativa nel BaseRate per questo paese.\n",
            "\n",
            "Test t per il paese Germany:\n",
            "  Statistica t: 0.46\n",
            "  P-value: 0.651\n",
            "  Nessuna differenza significativa nel BaseRate per questo paese.\n",
            "\n",
            "Test t per il paese Australia:\n",
            "  Statistica t: 0.46\n",
            "  P-value: 0.651\n",
            "  Nessuna differenza significativa nel BaseRate per questo paese.\n",
            "\n",
            "Test t per il paese United Kingdom:\n",
            "  Statistica t: 0.46\n",
            "  P-value: 0.651\n",
            "  Nessuna differenza significativa nel BaseRate per questo paese.\n"
          ]
        }
      ]
    }
  ]
}