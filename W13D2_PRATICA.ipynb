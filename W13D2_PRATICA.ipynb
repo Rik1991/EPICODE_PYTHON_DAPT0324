{
  "nbformat": 4,
  "nbformat_minor": 0,
  "metadata": {
    "colab": {
      "provenance": []
    },
    "kernelspec": {
      "name": "python3",
      "display_name": "Python 3"
    },
    "language_info": {
      "name": "python"
    }
  },
  "cells": [
    {
      "cell_type": "code",
      "execution_count": 2,
      "metadata": {
        "id": "PKA_iJy0eNA_"
      },
      "outputs": [],
      "source": [
        "#Stampare ogni carattere della stringa \"epicode\", uno su ogni riga, utilizzando un costrutto while."
      ]
    },
    {
      "cell_type": "code",
      "source": [
        "nome_scuola = \"Epicode\"\n",
        "i = 0\n",
        "\n",
        "while i < len(nome_scuola):\n",
        "    print(nome_scuola[i])\n",
        "    i += 1"
      ],
      "metadata": {
        "colab": {
          "base_uri": "https://localhost:8080/"
        },
        "id": "CQghcYzxeWxQ",
        "outputId": "9c4ebeaa-abd6-42db-ccdf-ef122adc5f4c"
      },
      "execution_count": 3,
      "outputs": [
        {
          "output_type": "stream",
          "name": "stdout",
          "text": [
            "E\n",
            "p\n",
            "i\n",
            "c\n",
            "o\n",
            "d\n",
            "e\n"
          ]
        }
      ]
    },
    {
      "cell_type": "code",
      "source": [
        "#Stampare a video tutti i numeri da 0 a 20 utilizzando il costrutto while."
      ],
      "metadata": {
        "id": "ujFmKlyve6gg"
      },
      "execution_count": null,
      "outputs": []
    },
    {
      "cell_type": "code",
      "source": [
        "i = 0\n",
        "\n",
        "while i <= 20:\n",
        "    print(i)\n",
        "    i += 1"
      ],
      "metadata": {
        "colab": {
          "base_uri": "https://localhost:8080/"
        },
        "id": "4IBTszHWe-RN",
        "outputId": "eec8a452-a7a6-4d28-f741-2f5300409cb0"
      },
      "execution_count": 4,
      "outputs": [
        {
          "output_type": "stream",
          "name": "stdout",
          "text": [
            "0\n",
            "1\n",
            "2\n",
            "3\n",
            "4\n",
            "5\n",
            "6\n",
            "7\n",
            "8\n",
            "9\n",
            "10\n",
            "11\n",
            "12\n",
            "13\n",
            "14\n",
            "15\n",
            "16\n",
            "17\n",
            "18\n",
            "19\n",
            "20\n"
          ]
        }
      ]
    },
    {
      "cell_type": "code",
      "source": [
        "#Calcolare e stampare tutte le prime 10 potenze di 2 utilizzando un ciclo while."
      ],
      "metadata": {
        "id": "cXf3r7OZfCuq"
      },
      "execution_count": null,
      "outputs": []
    },
    {
      "cell_type": "code",
      "source": [
        "i = 0\n",
        "\n",
        "while i < 10:\n",
        "    print(2 ** i)\n",
        "    i += 1\n"
      ],
      "metadata": {
        "colab": {
          "base_uri": "https://localhost:8080/"
        },
        "id": "I-Smpok6iUGc",
        "outputId": "8bacfa76-1d80-459d-844f-8bc22eab21df"
      },
      "execution_count": 5,
      "outputs": [
        {
          "output_type": "stream",
          "name": "stdout",
          "text": [
            "1\n",
            "2\n",
            "4\n",
            "8\n",
            "16\n",
            "32\n",
            "64\n",
            "128\n",
            "256\n",
            "512\n"
          ]
        }
      ]
    },
    {
      "cell_type": "code",
      "source": [
        "#Calcolare e stampare tutte le prime N potenze di 2 utilizzando un ciclo while, domandando all'utente di inserire N."
      ],
      "metadata": {
        "id": "TKggSekjicTX"
      },
      "execution_count": null,
      "outputs": []
    },
    {
      "cell_type": "code",
      "source": [
        "N = int(input(\"Inserisci il valore di N: \"))\n",
        "i = 0\n",
        "\n",
        "while i < N:\n",
        "    print(2 ** i)\n",
        "    i += 1\n"
      ],
      "metadata": {
        "colab": {
          "base_uri": "https://localhost:8080/"
        },
        "id": "AS8gDjM1krKM",
        "outputId": "43cfbc27-7643-4a47-9f6a-61f58d679453"
      },
      "execution_count": 16,
      "outputs": [
        {
          "output_type": "stream",
          "name": "stdout",
          "text": [
            "Inserisci il valore di N: 2\n",
            "1\n",
            "2\n"
          ]
        }
      ]
    }
  ]
}