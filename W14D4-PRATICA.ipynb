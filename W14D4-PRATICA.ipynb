{
  "nbformat": 4,
  "nbformat_minor": 0,
  "metadata": {
    "colab": {
      "provenance": []
    },
    "kernelspec": {
      "name": "python3",
      "display_name": "Python 3"
    },
    "language_info": {
      "name": "python"
    }
  },
  "cells": [
    {
      "cell_type": "code",
      "execution_count": null,
      "metadata": {
        "id": "WUN7fDjmpwcO"
      },
      "outputs": [],
      "source": [
        "#Estraiamo la tabella dimproduct dal database AdventureWorks, e valutiamo quanto segue: • Quanti dati ci sono in totale? • Quali sono i metadati? • Stampiamo il primo elemento • Stampiamo l'ultimo elemento • Riusciamo a stampare cinque elementi a caso? • Quali sono i colori disponibili? In media quanto pesano i prodotti? • Quanto pesa il più leggero? • Quanto pesa il più pesante? • Quanti prodotti pesano più di 100 Kg? • Quanto costano in media i prodotti (colonna DealerPrice)? • Se prendiamo un quarto di tutti i prodotti, in modo che siano i più costosi, quale sarà il loro range di prezzo?Qual è il prezzo medio per i prodotti di colore blu? • Qual è il prezzo medio per i prodotti di colore rosso o nero? • Qual è il prezzo massimo per i prodotti di taglia 42 e peso oltre i 10 Kg? • Qual è il nome inglese e il costo di produzione (StandardCost) di tutti i prodotti di taglia 42, peso oltre i 10 Kg e colore argento? • Esaminiamo la differenza tra lo StandardCost e il DealerPrice degli ultimi 20 elementi del dataset: c'è un pattern? C'è qualche elemento che non lo segue?"
      ]
    },
    {
      "cell_type": "code",
      "source": [
        "!pip install pymysql\n"
      ],
      "metadata": {
        "colab": {
          "base_uri": "https://localhost:8080/"
        },
        "id": "I4rJCH2U5jDp",
        "outputId": "28d1329d-304a-4487-a149-06fadc04750e"
      },
      "execution_count": 15,
      "outputs": [
        {
          "output_type": "stream",
          "name": "stdout",
          "text": [
            "Collecting pymysql\n",
            "  Downloading PyMySQL-1.1.1-py3-none-any.whl.metadata (4.4 kB)\n",
            "Downloading PyMySQL-1.1.1-py3-none-any.whl (44 kB)\n",
            "\u001b[?25l   \u001b[90m━━━━━━━━━━━━━━━━━━━━━━━━━━━━━━━━━━━━━━━━\u001b[0m \u001b[32m0.0/45.0 kB\u001b[0m \u001b[31m?\u001b[0m eta \u001b[36m-:--:--\u001b[0m\r\u001b[2K   \u001b[90m━━━━━━━━━━━━━━━━━━━━━━━━━━━━━━━━━━━━━━━━\u001b[0m \u001b[32m45.0/45.0 kB\u001b[0m \u001b[31m1.8 MB/s\u001b[0m eta \u001b[36m0:00:00\u001b[0m\n",
            "\u001b[?25hInstalling collected packages: pymysql\n",
            "Successfully installed pymysql-1.1.1\n"
          ]
        }
      ]
    },
    {
      "cell_type": "code",
      "source": [
        "# Extract the DimProduct table\n",
        "import pandas as pd\n",
        "\n",
        "# Configurazione della connessione\n",
        "host = 'epicode-data-pt-mysql.cvetyjye2qbl.eu-central-1.rds.amazonaws.com'  # Indirizzo del server MySQL\n",
        "user = 'studente_dapt'  # Nome utente MySQL\n",
        "password = 'Ep1c0d3!!D4t4**4n4lys1s'  # Password MySQL\n",
        "database = 'AdventureWorksDW'  # Nome del database a cui collegarsi\n",
        "\n",
        "# Creazione della connessione al database\n",
        "connection = pymysql.connect(\n",
        "        host=host,\n",
        "        user=user,\n",
        "        password=password,\n",
        "        database=database\n",
        "    )\n",
        "\n",
        "query = \"SELECT * FROM dimproduct\" # Removed extra quotes\n",
        "db_engine = connection.cursor()\n",
        "df = pd.read_sql_query(query, connection)"
      ],
      "metadata": {
        "colab": {
          "base_uri": "https://localhost:8080/"
        },
        "id": "JjA-NyScIAIH",
        "outputId": "c4df7e14-87f1-4907-c20d-11d738ed7e78"
      },
      "execution_count": 28,
      "outputs": [
        {
          "output_type": "stream",
          "name": "stderr",
          "text": [
            "<ipython-input-28-8c443ab301f8>:20: UserWarning: pandas only supports SQLAlchemy connectable (engine/connection) or database string URI or sqlite3 DBAPI2 connection. Other DBAPI2 objects are not tested. Please consider using SQLAlchemy.\n",
            "  df = pd.read_sql_query(query, connection)\n"
          ]
        }
      ]
    },
    {
      "cell_type": "code",
      "source": [
        "\n",
        "# Quanti dati ci sono in totale?\n",
        "print(\"Numero totale di dati:\", df.shape[0])\n",
        "\n",
        "# Quali sono i metadati?\n",
        "print(\"\\nMetadati:\")\n",
        "print(df.info())\n",
        "\n",
        "# Stampiamo il primo elemento\n",
        "print(\"\\nPrimo elemento:\")\n",
        "print(df.iloc[0])\n",
        "\n",
        "# Stampiamo l'ultimo elemento\n",
        "print(\"\\nUltimo elemento:\")\n",
        "print(df.iloc[-1])\n",
        "\n",
        "# Stampiamo cinque elementi a caso\n",
        "print(\"\\nCinque elementi a caso:\")\n",
        "print(df.sample(5))\n",
        "\n",
        "# Quali sono i colori disponibili?\n",
        "print(\"\\nColori disponibili:\", df['Color'].unique())\n",
        "\n",
        "# In media quanto pesano i prodotti?\n",
        "print(\"\\nPeso medio dei prodotti:\", df['Weight'].mean())\n",
        "\n",
        "# Quanto pesa il più leggero?\n",
        "print(\"\\nPeso del prodotto più leggero:\", df['Weight'].min())\n",
        "\n",
        "# Quanto pesa il più pesante?\n",
        "print(\"\\nPeso del prodotto più pesante:\", df['Weight'].max())\n",
        "\n",
        "# Quanti prodotti pesano più di 100 Kg?\n",
        "print(\"\\nNumero di prodotti che pesano più di 100 Kg:\", df[df['Weight'] > 100]['Weight'].count())\n",
        "\n"
      ],
      "metadata": {
        "colab": {
          "base_uri": "https://localhost:8080/"
        },
        "collapsed": true,
        "id": "kC3tR33mOOWk",
        "outputId": "35f5ff36-2aec-459a-dbf6-3a72b924c8f0"
      },
      "execution_count": 32,
      "outputs": [
        {
          "output_type": "stream",
          "name": "stdout",
          "text": [
            "Numero totale di dati: 606\n",
            "\n",
            "Metadati:\n",
            "<class 'pandas.core.frame.DataFrame'>\n",
            "RangeIndex: 606 entries, 0 to 605\n",
            "Data columns (total 36 columns):\n",
            " #   Column                 Non-Null Count  Dtype         \n",
            "---  ------                 --------------  -----         \n",
            " 0   ProductKey             606 non-null    int64         \n",
            " 1   ProductAlternateKey    606 non-null    object        \n",
            " 2   ProductSubcategoryKey  397 non-null    float64       \n",
            " 3   WeightUnitMeasureCode  282 non-null    object        \n",
            " 4   SizeUnitMeasureCode    253 non-null    object        \n",
            " 5   EnglishProductName     606 non-null    object        \n",
            " 6   SpanishProductName     606 non-null    object        \n",
            " 7   FrenchProductName      606 non-null    object        \n",
            " 8   StandardCost           397 non-null    float64       \n",
            " 9   FinishedGoodsFlag      606 non-null    int64         \n",
            " 10  Color                  606 non-null    object        \n",
            " 11  SafetyStockLevel       606 non-null    int64         \n",
            " 12  ReorderPoint           606 non-null    int64         \n",
            " 13  ListPrice              395 non-null    float64       \n",
            " 14  Size                   299 non-null    object        \n",
            " 15  SizeRange              606 non-null    object        \n",
            " 16  Weight                 282 non-null    float64       \n",
            " 17  DaysToManufacture      606 non-null    int64         \n",
            " 18  ProductLine            380 non-null    object        \n",
            " 19  DealerPrice            395 non-null    float64       \n",
            " 20  Class                  330 non-null    object        \n",
            " 21  Style                  301 non-null    object        \n",
            " 22  ModelName              397 non-null    object        \n",
            " 23  LargePhoto             606 non-null    object        \n",
            " 24  EnglishDescription     396 non-null    object        \n",
            " 25  FrenchDescription      396 non-null    object        \n",
            " 26  ChineseDescription     396 non-null    object        \n",
            " 27  ArabicDescription      396 non-null    object        \n",
            " 28  HebrewDescription      396 non-null    object        \n",
            " 29  ThaiDescription        396 non-null    object        \n",
            " 30  GermanDescription      396 non-null    object        \n",
            " 31  JapaneseDescription    396 non-null    object        \n",
            " 32  TurkishDescription     396 non-null    object        \n",
            " 33  StartDate              606 non-null    datetime64[ns]\n",
            " 34  EndDate                200 non-null    datetime64[ns]\n",
            " 35  Status                 406 non-null    object        \n",
            "dtypes: datetime64[ns](2), float64(5), int64(5), object(24)\n",
            "memory usage: 170.6+ KB\n",
            "None\n",
            "\n",
            "Primo elemento:\n",
            "ProductKey                                                               1\n",
            "ProductAlternateKey                                                AR-5381\n",
            "ProductSubcategoryKey                                                  NaN\n",
            "WeightUnitMeasureCode                                                 None\n",
            "SizeUnitMeasureCode                                                   None\n",
            "EnglishProductName                                         Adjustable Race\n",
            "SpanishProductName                                                        \n",
            "FrenchProductName                                                         \n",
            "StandardCost                                                           NaN\n",
            "FinishedGoodsFlag                                                        0\n",
            "Color                                                                   NA\n",
            "SafetyStockLevel                                                      1000\n",
            "ReorderPoint                                                           750\n",
            "ListPrice                                                              NaN\n",
            "Size                                                                  None\n",
            "SizeRange                                                               NA\n",
            "Weight                                                                 NaN\n",
            "DaysToManufacture                                                        0\n",
            "ProductLine                                                           None\n",
            "DealerPrice                                                            NaN\n",
            "Class                                                                 None\n",
            "Style                                                                 None\n",
            "ModelName                                                             None\n",
            "LargePhoto               b'GIF89a\\xf0\\x00\\x95\\x00\\xf7\\x00\\x00\\x00\\x00\\x...\n",
            "EnglishDescription                                                    None\n",
            "FrenchDescription                                                     None\n",
            "ChineseDescription                                                    None\n",
            "ArabicDescription                                                     None\n",
            "HebrewDescription                                                     None\n",
            "ThaiDescription                                                       None\n",
            "GermanDescription                                                     None\n",
            "JapaneseDescription                                                   None\n",
            "TurkishDescription                                                    None\n",
            "StartDate                                              2003-07-01 00:00:00\n",
            "EndDate                                                                NaT\n",
            "Status                                                             Current\n",
            "Name: 0, dtype: object\n",
            "\n",
            "Ultimo elemento:\n",
            "ProductKey                                                             606\n",
            "ProductAlternateKey                                             BK-R19B-52\n",
            "ProductSubcategoryKey                                                  2.0\n",
            "WeightUnitMeasureCode                                                   LB\n",
            "SizeUnitMeasureCode                                                     CM\n",
            "EnglishProductName                                      Road-750 Black, 52\n",
            "SpanishProductName                               Carretera: 750, negra, 52\n",
            "FrenchProductName                               Vélo de route 750 noir, 52\n",
            "StandardCost                                                        343.65\n",
            "FinishedGoodsFlag                                                        1\n",
            "Color                                                                Black\n",
            "SafetyStockLevel                                                       100\n",
            "ReorderPoint                                                            75\n",
            "ListPrice                                                           539.99\n",
            "Size                                                                    52\n",
            "SizeRange                                                         48-52 CM\n",
            "Weight                                                               20.42\n",
            "DaysToManufacture                                                        4\n",
            "ProductLine                                                              R\n",
            "DealerPrice                                                        323.994\n",
            "Class                                                                    L\n",
            "Style                                                                    U\n",
            "ModelName                                                         Road-750\n",
            "LargePhoto               b'GIF89a\\xf0\\x00\\x95\\x00\\xf7\\x00\\x00\\x8avw\\xf7...\n",
            "EnglishDescription       Entry level adult bike; offers a comfortable r...\n",
            "FrenchDescription        Vélo d'adulte d'entrée de gamme ; permet une c...\n",
            "ChineseDescription                       入门级成人自行车；确保越野旅行或公路骑乘的舒适。快拆式车毂和轮缘。\n",
            "ArabicDescription        إنها دراجة مناسبة للمبتدئين من البالغين؛ فهي ت...\n",
            "HebrewDescription        אופני מבוגרים למתחילים; מציעים רכיבה נוחה \"מחו...\n",
            "ThaiDescription          จักรยานระดับเริ่มต้นสำหรับผู้ใหญ่ ให้ความสบายใ...\n",
            "GermanDescription        Ein Erwachsenenrad für Einsteiger; bietet Komf...\n",
            "JapaneseDescription      エントリー レベルに対応する、クロスカントリーにも街への買い物にも快適な、大人の自転車。ハブ...\n",
            "TurkishDescription       \"Başlangıç seviyesinde yetişkin bisikleti, kır...\n",
            "StartDate                                              2013-07-01 00:00:00\n",
            "EndDate                                                                NaT\n",
            "Status                                                             Current\n",
            "Name: 605, dtype: object\n",
            "\n",
            "Cinque elementi a caso:\n",
            "     ProductKey ProductAlternateKey  ProductSubcategoryKey  \\\n",
            "416         417          FR-R72Y-38                   14.0   \n",
            "31           32             FC-3982                    NaN   \n",
            "522         523             SE-T924                   15.0   \n",
            "384         385          BK-R64Y-42                    2.0   \n",
            "15           16             DT-2377                    NaN   \n",
            "\n",
            "    WeightUnitMeasureCode SizeUnitMeasureCode            EnglishProductName  \\\n",
            "416                    LB                  CM  ML Road Frame-W - Yellow, 38   \n",
            "31                   None                None         Front Derailleur Cage   \n",
            "522                  None                None        HL Touring Seat/Saddle   \n",
            "384                    LB                  CM         Road-550-W Yellow, 42   \n",
            "15                   None                None                     Down Tube   \n",
            "\n",
            "                                  SpanishProductName  \\\n",
            "416  Cuadro de carretera para mujer GM: amarillo, 38   \n",
            "31                                                     \n",
            "522                       Sillín/asiento de paseo GA   \n",
            "384          Carretera: 550 para mujer, amarilla, 42   \n",
            "15                                                     \n",
            "\n",
            "                    FrenchProductName  StandardCost  FinishedGoodsFlag  ...  \\\n",
            "416  Cadre de route ML -W - jaune, 38        300.12                  1  ...   \n",
            "31                                              NaN                  0  ...   \n",
            "522     Selle de vélo de randonnée HL         23.37                  1  ...   \n",
            "384  Vélo de route 550 -W - jaune, 42        605.65                  1  ...   \n",
            "15                                              NaN                  0  ...   \n",
            "\n",
            "                                    ChineseDescription  \\\n",
            "416  ML 车架使用与我们的高档 HL 车架完全相同的铝合金，它的特征是轻型下管经过磨制达到最佳口...   \n",
            "31                                                None   \n",
            "522                                     精致的车架，令您骑乘更舒适。   \n",
            "384  使用的技术与我们所有的公路系列自行车完全相同，但车架尺寸专为女士设计。完美的全能自行车，可作...   \n",
            "15                                                None   \n",
            "\n",
            "                                     ArabicDescription  \\\n",
            "416  يحتوي هيكل ML على أنبوبة سفلية خفيف الوزن تم ت...   \n",
            "31                                                None   \n",
            "522  هيكل خارجي تم تصميمه لتوفير مزيد من الراحة أثن...   \n",
            "384  ولها نفس التقنية المتوفرة في جميع دراجات سلسلة...   \n",
            "15                                                None   \n",
            "\n",
            "                                     HebrewDescription  \\\n",
            "416  מסגרת ה- ML, העשויה סגסוגת אלומיניום זהה לזו ה...   \n",
            "31                                                None   \n",
            "522                      מעטפת קעורה לרכיבה נוחה יותר.   \n",
            "384  טכנולוגיה זהה לזו המצוי באופני סדרת \"כביש\" שלנ...   \n",
            "15                                                None   \n",
            "\n",
            "                                       ThaiDescription  \\\n",
            "416  สร้างจากอลูมิเนียมอัลลอยชนิดเดียวกับสุดยอดเฟรม...   \n",
            "31                                                None   \n",
            "522               เปลือกพิเศษสำหรับการขับขี่ที่แสนสบาย   \n",
            "384  เทคโนโลยีเดียวกับจักรยานรุ่น Road ทั้งหมด แต่ใ...   \n",
            "15                                                None   \n",
            "\n",
            "                                     GermanDescription  \\\n",
            "416  Der ML-Rahmen ist aus der gleichen Aluminiumle...   \n",
            "31                                                None   \n",
            "522    Ausgeschnittene Form für komfortableres Fahren.   \n",
            "384  Dieselbe Technologie wie bei allen Rädern unse...   \n",
            "15                                                None   \n",
            "\n",
            "                                   JapaneseDescription  \\\n",
            "416  当社の最高級 HL フレームと同じアルミニウム合金で作られた ML は、完璧なダウンチューブ...   \n",
            "31                                                None   \n",
            "522                          より快適な乗り心地のためのカット アウト シェル。   \n",
            "384  ロード シリーズの自転車と同じ技術を使用した女性用サイズのフレームで、ロードにも競技にも適し...   \n",
            "15                                                None   \n",
            "\n",
            "                                    TurkishDescription  StartDate    EndDate  \\\n",
            "416  \"HL kadroyla aynı alüminyum alaşımından imal e... 2012-07-01 2008-12-27   \n",
            "31                                                None 2003-07-01        NaT   \n",
            "522  Daha konforlu bir sürüş için özel sele kaplaması. 2013-07-01        NaT   \n",
            "384  \"Yol serisi bisikletlerimizle aynı teknoloji, ... 2012-07-01 2008-12-27   \n",
            "15                                                None 2003-07-01        NaT   \n",
            "\n",
            "      Status  \n",
            "416     None  \n",
            "31   Current  \n",
            "522  Current  \n",
            "384     None  \n",
            "15   Current  \n",
            "\n",
            "[5 rows x 36 columns]\n",
            "\n",
            "Colori disponibili: ['NA' 'Black' 'Silver' 'Red' 'White' 'Blue' 'Multi' 'Yellow' 'Grey'\n",
            " 'Silver/Black']\n",
            "\n",
            "Peso medio dei prodotti: 56.1932269503546\n",
            "\n",
            "Peso del prodotto più leggero: 2.12\n",
            "\n",
            "Peso del prodotto più pesante: 1050.0\n",
            "\n",
            "Numero di prodotti che pesano più di 100 Kg: 28\n"
          ]
        }
      ]
    },
    {
      "cell_type": "code",
      "source": [
        "# Quanto costano in media i prodotti (colonna DealerPrice)?\n",
        "print(\"\\nCosto medio dei prodotti:\", df['DealerPrice'].mean())\n",
        "\n",
        "# Se prendiamo un quarto di tutti i prodotti, in modo che siano i più costosi, quale sarà il loro range di prezzo?\n",
        "num_prodotti = df.shape[0]\n",
        "top_prodotti = df.nlargest(int(num_prodotti / 4), 'DealerPrice')\n",
        "print(\"\\nRange di prezzo dei prodotti più costosi (top 25%):\", top_prodotti['DealerPrice'].min(), \"-\", top_prodotti['DealerPrice'].max())\n",
        "\n",
        "# Qual è il prezzo medio per i prodotti di colore blu?\n",
        "print(\"\\nPrezzo medio dei prodotti di colore blu:\", df[df['Color'] == 'Blue']['DealerPrice'].mean())\n",
        "\n",
        "# Qual è il prezzo medio per i prodotti di colore rosso o nero?\n",
        "print(\"\\nPrezzo medio dei prodotti di colore rosso o nero:\", df[(df['Color'] == 'Red') | (df['Color'] == 'Black')]['DealerPrice'].mean())\n",
        "\n",
        "# Qual è il prezzo massimo per i prodotti di taglia 42 e peso oltre i 10 Kg?\n",
        "print(\"\\nPrezzo massimo per i prodotti di taglia 42 e peso oltre i 10 Kg:\", df[(df['Size'] == '42') & (df['Weight'] > 10)]['DealerPrice'].max())\n"
      ],
      "metadata": {
        "colab": {
          "base_uri": "https://localhost:8080/"
        },
        "collapsed": true,
        "id": "CzZmOUOPOpVl",
        "outputId": "73828e32-f1ec-4166-eb32-9351aec494d4"
      },
      "execution_count": 31,
      "outputs": [
        {
          "output_type": "stream",
          "name": "stdout",
          "text": [
            "\n",
            "Costo medio dei prodotti: 448.5970597468353\n",
            "\n",
            "Range di prezzo dei prodotti più costosi (top 25%): 445.41 - 2146.962\n",
            "\n",
            "Prezzo medio dei prodotti di colore blu: 516.0631785714286\n",
            "\n",
            "Prezzo medio dei prodotti di colore rosso o nero: 550.2481873684211\n",
            "\n",
            "Prezzo massimo per i prodotti di taglia 42 e peso oltre i 10 Kg: 2039.994\n"
          ]
        }
      ]
    },
    {
      "cell_type": "code",
      "source": [
        "\n",
        "# Qual è il nome inglese e il costo di produzione (StandardCost) di tutti i prodotti di taglia 42, peso oltre i 10 Kg e colore argento?\n",
        "print(\"\\nProdotti taglia 42, peso > 10 Kg, colore argento:\")\n",
        "print(df[(df['Size'] == '42') & (df['Weight'] > 10) & (df['Color'] == 'Silver')][['EnglishProductName', 'StandardCost']])\n",
        "\n",
        "# Esaminiamo la differenza tra lo StandardCost e il DealerPrice degli ultimi 20 elementi del dataset: c'è un pattern? C'è qualche elemento che non lo segue?\n",
        "ultimi_20 = df.tail(20)\n",
        "ultimi_20['Differenza'] = ultimi_20['DealerPrice'] - ultimi_20['StandardCost']\n",
        "print(\"\\nDifferenza tra StandardCost e DealerPrice per gli ultimi 20 prodotti:\")\n",
        "print(ultimi_20[['EnglishProductName', 'StandardCost', 'DealerPrice', 'Differenza']])\n",
        "#standard cost è generalmente inferiore a dealerprice tranne nel caso\n"
      ],
      "metadata": {
        "colab": {
          "base_uri": "https://localhost:8080/"
        },
        "id": "kTK7nJ0pQK_-",
        "outputId": "402991a4-e283-47d2-f319-3d95dae0ff76"
      },
      "execution_count": 33,
      "outputs": [
        {
          "output_type": "stream",
          "name": "stdout",
          "text": [
            "\n",
            "Prodotti taglia 42, peso > 10 Kg, colore argento:\n",
            "            EnglishProductName  StandardCost\n",
            "344    Mountain-100 Silver, 42       1912.15\n",
            "353    Mountain-200 Silver, 42       1117.86\n",
            "354    Mountain-200 Silver, 42       1265.62\n",
            "588  Mountain-400-W Silver, 42        419.78\n",
            "591    Mountain-500 Silver, 42        308.22\n",
            "\n",
            "Differenza tra StandardCost e DealerPrice per gli ultimi 20 prodotti:\n",
            "            EnglishProductName  StandardCost  DealerPrice  Differenza\n",
            "586  Mountain-400-W Silver, 38        419.78      461.694      41.914\n",
            "587  Mountain-400-W Silver, 40        419.78      461.694      41.914\n",
            "588  Mountain-400-W Silver, 42        419.78      461.694      41.914\n",
            "589  Mountain-400-W Silver, 46        419.78      461.694      41.914\n",
            "590    Mountain-500 Silver, 40        308.22      338.994      30.774\n",
            "591    Mountain-500 Silver, 42        308.22      338.994      30.774\n",
            "592    Mountain-500 Silver, 44        308.22      338.994      30.774\n",
            "593    Mountain-500 Silver, 48        308.22      338.994      30.774\n",
            "594    Mountain-500 Silver, 52        308.22      338.994      30.774\n",
            "595     Mountain-500 Black, 40        294.58      323.994      29.414\n",
            "596     Mountain-500 Black, 42        294.58      323.994      29.414\n",
            "597     Mountain-500 Black, 44        294.58      323.994      29.414\n",
            "598     Mountain-500 Black, 48        294.58      323.994      29.414\n",
            "599     Mountain-500 Black, 52        294.58      323.994      29.414\n",
            "600          LL Bottom Bracket         23.97       32.394       8.424\n",
            "601          ML Bottom Bracket         44.95       60.744      15.794\n",
            "602          HL Bottom Bracket         53.94       72.894      18.954\n",
            "603         Road-750 Black, 44        343.65      323.994     -19.656\n",
            "604         Road-750 Black, 48        343.65      323.994     -19.656\n",
            "605         Road-750 Black, 52        343.65      323.994     -19.656\n"
          ]
        },
        {
          "output_type": "stream",
          "name": "stderr",
          "text": [
            "<ipython-input-33-689748fddd93>:7: SettingWithCopyWarning: \n",
            "A value is trying to be set on a copy of a slice from a DataFrame.\n",
            "Try using .loc[row_indexer,col_indexer] = value instead\n",
            "\n",
            "See the caveats in the documentation: https://pandas.pydata.org/pandas-docs/stable/user_guide/indexing.html#returning-a-view-versus-a-copy\n",
            "  ultimi_20['Differenza'] = ultimi_20['DealerPrice'] - ultimi_20['StandardCost']\n"
          ]
        }
      ]
    },
    {
      "cell_type": "code",
      "source": [
        "#Tra i beginner datasets scaricabili all'indirizzo https://www.kaggle.com/datasets/ahmettezcantekin/beginner-datasets selezioniamo amazon.csv, un dataset contenente una serie di recensioni su Amazon. • Valutiamo la dimensione del dataset • Visualizziamo dieci righe a caso; • Osserviamo quali sono i nomi di colonna; • Il dataset è bilanciato, ovvero, il numero di recensioni positive è uguale a quello delle negative, oppure no?"
      ],
      "metadata": {
        "id": "jcefkgRVw-Kw"
      },
      "execution_count": null,
      "outputs": []
    },
    {
      "cell_type": "code",
      "source": [
        "#Il dataset diabetes.csv raccoglie persone con diabete o meno, e il valore di diverse variabili fisiologiche dei pazienti. • Osserviamone le dimensioni e un'anteprima di cinque righe; • Prendiamoci un po' di tempo per dare un'occhiata ai metadati delle colonne; • Stampiamo dei descrittori statistici del dataset; • Selezioniamo i dati relativi a diverse fasce di età: <20, 20-30, 30-40, 40-50, >50; • Qual è la media della pressione sanguigna diastolica per le diverse fasce di età? 6 • Qual è la media della pressione per ogni singolo anno di età?"
      ],
      "metadata": {
        "id": "IE_SUBz8xPAX"
      },
      "execution_count": null,
      "outputs": []
    },
    {
      "cell_type": "code",
      "source": [
        "#Il dataset insurance.csv contiene dati rispetto a caratteristiche e abitudini delle persone, e della zona in cui vivono, rispetto ai costi individuali per le cure mediche come premio per le assicurazioni sulla salute. • Visualizziamone le dimensioni, un'anteprima, e osserviamo i nomi di colonna; • Quali sono le medie di charges rispetto a region? Ci sono differenze significative? • E rispetto a smoker? E a sex? • Quali sono i descrittori statistici di bmi? Quali sono minimo, media e massimo di charges rispetto ai diversi quartili dei valori di bmi?"
      ],
      "metadata": {
        "id": "eaDVWZ_dxaIj"
      },
      "execution_count": null,
      "outputs": []
    },
    {
      "cell_type": "code",
      "source": [
        "#• Il dataset pokemon.csv contiene un database di Pokémon, con dati quali nome, tipi di attacco, valori di attacco/difesa/eccetera, e se sono o meno leggendari. • Verifichiamo la dimensione, un'anteprima e osserviamo i nomi di colonna; • È verosimile che la prima colonna dovrebbe essere un indice? • Confrontiamolo con l'indice messo automaticamente da Pandas: combaciano? • Se no, settare la prima colonna come indice.Quali sono i Pokémon leggendari? • E quali sono i leggendari di tipo 1 Grass? • E leggendari di tipo 1 Ice o Fire? • Ordiniamo il dataset per la colonna Name; • Trasformiamo Name nell'indice; • Quali sono i Pokémon della prima generazione con attacco > 50 e HP < 60?"
      ],
      "metadata": {
        "id": "yGxdSjJ3xiFt"
      },
      "execution_count": null,
      "outputs": []
    }
  ]
}