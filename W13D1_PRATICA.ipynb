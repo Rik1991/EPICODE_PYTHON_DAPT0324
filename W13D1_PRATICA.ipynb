{
  "nbformat": 4,
  "nbformat_minor": 0,
  "metadata": {
    "colab": {
      "provenance": [],
      "name": "W13D1-PRATICA.ipynb"
    },
    "kernelspec": {
      "name": "python3",
      "display_name": "Python 3"
    },
    "language_info": {
      "name": "python"
    }
  },
  "cells": [
    {
      "cell_type": "code",
      "execution_count": null,
      "metadata": {
        "id": "8PF-lH855uxf"
      },
      "outputs": [],
      "source": [
        "# Esercizio 1: Algoritmi per Tre Task\n",
        "#Task 1: Fare la spesa\n",
        "\n",
        "#Creare una lista degli oggetti da comprare.\n",
        "#scegliere il supermercato.\n",
        "#andare al supermercato.\n",
        "#se la spesa è inferiore ai 15 articoli prendere un un cestino, se è superiore prendere carrello\n",
        "#Cercare e raccogliere tutti gli oggetti nella lista.\n",
        "#Dirigersi alla cassa.\n",
        "#Pagare gli articoli.\n",
        "#Tornare a casa con la spesa.\n",
        "#Sistemare la spesa negli appositi spazi.\n",
        "#Task 2: Riempire il serbatoio dell'auto\n",
        "\n",
        "#se l'autonomia dell'auto è inferiore ai 50km, dirigersi fino alla stazione di servizio.\n",
        "#Spegnere il motore e aprire il tappo del serbatoio.\n",
        "#inserire carte o banconote all'interno della colonnina per il pagamento\n",
        "#scegliere il numero della pompa\n",
        "#scegliere il carburante appropriato\n",
        "#Inserire l'erogatore nel serbatoio.\n",
        "#Premere il grilletto dell'erogatore per iniziare il rifornimento.\n",
        "#Una volta raggiunta la quantità desiderata, rilasciare il grilletto.\n",
        "#Rimuovere l'erogatore e chiudere il tappo del serbatoio.\n",
        "#Ripartire con l'auto.\n",
        "#Task 3: Acquistare uno snack da un distributore automatico\n",
        "\n",
        "#Trovare un distributore automatico.\n",
        "#scegliere lo snack.\n",
        "#Verificare il prezzo dello snack desiderato.\n",
        "#Inserire i soldi nella macchina (o usare la carta).\n",
        "#Selezionare lo snack premendo il pulsante corrispondente.\n",
        "#Ritirare lo snack dallo scomparto.\n",
        "#Se necessario, ritirare il resto.\n",
        "#Godersi lo snack."
      ]
    },
    {
      "cell_type": "code",
      "source": [
        "#Esercizio 2: Memorizzare il numero di studenti in una variabile e stamparla a video\n",
        "numero_studenti = 25\n",
        "print(numero_studenti)\n"
      ],
      "metadata": {
        "colab": {
          "base_uri": "https://localhost:8080/"
        },
        "id": "ln6B-hm17ygJ",
        "outputId": "c72505dd-166a-413c-f05e-027567ef2e5b"
      },
      "execution_count": null,
      "outputs": [
        {
          "output_type": "stream",
          "name": "stdout",
          "text": [
            "25\n"
          ]
        }
      ]
    },
    {
      "cell_type": "code",
      "source": [
        "#Esercizio 4: Memorizzare l'arrivo di altri 3 studenti in un'altra variabile\n",
        "nuovi_studenti = 3"
      ],
      "metadata": {
        "id": "dkPwt_gm8Ky7"
      },
      "execution_count": null,
      "outputs": []
    },
    {
      "cell_type": "code",
      "source": [
        "#Esercizio 5: Creare una variabile che contenga la somma delle prime due e stamparla a video\n",
        "totale_studenti = numero_studenti + nuovi_studenti\n",
        "print(totale_studenti)"
      ],
      "metadata": {
        "colab": {
          "base_uri": "https://localhost:8080/"
        },
        "id": "cPUHiC6W8SfD",
        "outputId": "221cec79-ca0b-4db8-d24e-9fe662909c41"
      },
      "execution_count": null,
      "outputs": [
        {
          "output_type": "stream",
          "name": "stdout",
          "text": [
            "28\n"
          ]
        }
      ]
    },
    {
      "cell_type": "code",
      "source": [
        "#Esercizio 6: Creare una variabile con la stringa \"Epicode\" e stamparla a video\n",
        "nome_corso = \"Epicode\"\n",
        "print(nome_corso)"
      ],
      "metadata": {
        "colab": {
          "base_uri": "https://localhost:8080/"
        },
        "id": "fuXhB0sy8j8m",
        "outputId": "21722ae8-c327-42dc-b3d1-e4aab8d7ff59"
      },
      "execution_count": null,
      "outputs": [
        {
          "output_type": "stream",
          "name": "stdout",
          "text": [
            "Epicode\n"
          ]
        }
      ]
    },
    {
      "cell_type": "code",
      "source": [
        "#Esercizio 7: Incrementare e moltiplicare una variabile\n",
        "#Metodo 1: Utilizzando operatori di assegnazione\n",
        "x = 10\n",
        "x += 2  # Incrementa di 2\n",
        "x *= 3  # Moltiplica per 3\n",
        "print(x)  # Risultato: 36"
      ],
      "metadata": {
        "colab": {
          "base_uri": "https://localhost:8080/"
        },
        "id": "JRqAN6yA8tRo",
        "outputId": "135550d9-be6c-43bd-9f70-76f66b33a41b"
      },
      "execution_count": null,
      "outputs": [
        {
          "output_type": "stream",
          "name": "stdout",
          "text": [
            "36\n"
          ]
        }
      ]
    },
    {
      "cell_type": "code",
      "source": [
        "#Metodo 2: Senza usare operatori di assegnazione\n",
        "x = 10\n",
        "x = (x + 2) * 3  # Incrementa di 2 e poi moltiplica per 3\n",
        "print(x)  # Risultato: 36"
      ],
      "metadata": {
        "colab": {
          "base_uri": "https://localhost:8080/"
        },
        "id": "l-utxfGw8_Q7",
        "outputId": "a7aaa59d-0a52-4dfc-96be-23973ea9b864"
      },
      "execution_count": null,
      "outputs": [
        {
          "output_type": "stream",
          "name": "stdout",
          "text": [
            "36\n"
          ]
        }
      ]
    },
    {
      "cell_type": "code",
      "source": [
        "#Esercizio 8: Verificare il numero di caratteri nelle stringhe\n",
        "str1 = \"Windows\"\n",
        "str2 = \"Excel\"\n",
        "str3 = \"Powerpoint\"\n",
        "str4 = \"Word\"\n",
        "print(5 <= len(str1) <= 8)  # True\n",
        "print(5 <= len(str2) <= 8)  # True\n",
        "print(5 <= len(str3) <= 8)  # False\n",
        "print(5 <= len(str4) <= 8)  # False"
      ],
      "metadata": {
        "colab": {
          "base_uri": "https://localhost:8080/"
        },
        "id": "xQjtpXTW9MHr",
        "outputId": "b0ba5e6a-219a-4e63-e60b-52bc39c52656"
      },
      "execution_count": null,
      "outputs": [
        {
          "output_type": "stream",
          "name": "stdout",
          "text": [
            "True\n",
            "True\n",
            "False\n",
            "False\n"
          ]
        }
      ]
    },
    {
      "cell_type": "code",
      "source": [
        "#Esercizio 9: Calcolare e stampare il numero di secondi in un anno non bisestile\n",
        "secondi_in_un_anno = 365 * 24 * 60 * 60\n",
        "print(secondi_in_un_anno)  # Risultato: 31536000"
      ],
      "metadata": {
        "colab": {
          "base_uri": "https://localhost:8080/"
        },
        "id": "H5vFW_Rs_1w2",
        "outputId": "82628828-72f6-439d-a636-6ea88d068829"
      },
      "execution_count": null,
      "outputs": [
        {
          "output_type": "stream",
          "name": "stdout",
          "text": [
            "31536000\n"
          ]
        }
      ]
    },
    {
      "cell_type": "code",
      "source": [
        "#Esercizio 10: Manipolazione di una stringa\n",
        "#Il metodo .strip() rimuove spazi bianchi all'inizio e alla fine di una stringa. Se la stringa non ha spazi in eccesso, l'output rimarrà invariato.\n",
        "my_string = \"I am studying Python\"\n",
        "\n",
        "# Trasformare tutti i caratteri in maiuscolo\n",
        "my_string_upper=my_string.upper()\n",
        "print(my_string_upper)\n",
        "\n",
        "# Trasformare tutti i caratteri in minuscolo\n",
        "print(my_string.lower())\n",
        "\n",
        "# Sostituire \"Python\" con \"a lot\"\n",
        "print(my_string.replace(\"Python\", \"a lot\"))\n",
        "\n",
        "# Usare il metodo .strip()\n",
        "print(my_string.strip())\n"
      ],
      "metadata": {
        "colab": {
          "base_uri": "https://localhost:8080/"
        },
        "id": "zQ71kIn9_-Sf",
        "outputId": "4db6e0c9-51a1-47b2-936c-2bd271947e79"
      },
      "execution_count": null,
      "outputs": [
        {
          "output_type": "stream",
          "name": "stdout",
          "text": [
            "I AM STUDYING PYTHON\n",
            "i am studying python\n",
            "I am studying a lot\n",
            "I am studying Python\n"
          ]
        }
      ]
    }
  ]
}