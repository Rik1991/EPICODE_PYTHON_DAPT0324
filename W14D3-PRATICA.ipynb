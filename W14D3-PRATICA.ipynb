{
  "nbformat": 4,
  "nbformat_minor": 0,
  "metadata": {
    "colab": {
      "provenance": []
    },
    "kernelspec": {
      "name": "python3",
      "display_name": "Python 3"
    },
    "language_info": {
      "name": "python"
    }
  },
  "cells": [
    {
      "cell_type": "code",
      "source": [
        "import numpy as np\n",
        "import pandas as pd"
      ],
      "metadata": {
        "id": "64flQ7zQLZtr"
      },
      "execution_count": 2,
      "outputs": []
    },
    {
      "cell_type": "code",
      "execution_count": null,
      "metadata": {
        "id": "aK9evyJUsYs6"
      },
      "outputs": [],
      "source": [
        "#Abbiamo una lista di liste: mat = [[0, 1, 2, 3, 4], [5, 6, 7, 8, 9], [10, 11, 12, 13, 14]] Che tipo di struttura dati o matematica potrebbe rappresentare? Notare che tutte le liste \"interne\" sono della stessa dimensione Come facciamo per accedere ad un elemento in particolare?\n"
      ]
    },
    {
      "cell_type": "code",
      "source": [
        "mat = [[0, 1, 2, 3, 4], [5, 6, 7, 8, 9], [10, 11, 12, 13, 14]]\n",
        "data_frame=pd.DataFrame(mat)\n",
        "data_frame[0][2]"
      ],
      "metadata": {
        "colab": {
          "base_uri": "https://localhost:8080/"
        },
        "id": "U5Is3z1uMVIQ",
        "outputId": "9d8463eb-824b-42d5-d047-a88b6eeee28d"
      },
      "execution_count": null,
      "outputs": [
        {
          "output_type": "execute_result",
          "data": {
            "text/plain": [
              "10"
            ]
          },
          "metadata": {},
          "execution_count": 10
        }
      ]
    },
    {
      "cell_type": "code",
      "source": [
        "#Esercizio Importiamo il modulo math e proviamo a usare le funzioni .sin() .cos() .factorial() e la variabile .pi la riconoscete?"
      ],
      "metadata": {
        "id": "Uxm4fBJowrO0"
      },
      "execution_count": null,
      "outputs": []
    },
    {
      "cell_type": "code",
      "source": [
        "import math\n",
        "\n",
        "print(math.sin(math.pi/2))\n",
        "print(math.cos(0))\n",
        "print(math.factorial(5))\n",
        "print(math.pi)\n"
      ],
      "metadata": {
        "colab": {
          "base_uri": "https://localhost:8080/"
        },
        "id": "kvK9LK91j9Kn",
        "outputId": "ee249c68-ad14-4401-a9bd-5a525425a930"
      },
      "execution_count": null,
      "outputs": [
        {
          "output_type": "stream",
          "name": "stdout",
          "text": [
            "1.0\n",
            "1.0\n",
            "120\n",
            "3.141592653589793\n"
          ]
        }
      ]
    },
    {
      "cell_type": "code",
      "source": [
        "#Esercizio Proviamo a eseguire math.degrees(math.pi) Qual è e cosa significa il risultato? Per saperne di più su questa funzione possiamo usare help(math.degrees)"
      ],
      "metadata": {
        "id": "rIwk7QQSwrCu"
      },
      "execution_count": null,
      "outputs": []
    },
    {
      "cell_type": "code",
      "source": [
        "print(math.degrees(math.pi))\n",
        "help(math.degrees)\n"
      ],
      "metadata": {
        "colab": {
          "base_uri": "https://localhost:8080/"
        },
        "id": "JU8PEEMckbqo",
        "outputId": "64175698-53c4-4aba-91d9-a6ea8902ea33"
      },
      "execution_count": null,
      "outputs": [
        {
          "output_type": "stream",
          "name": "stdout",
          "text": [
            "180.0\n",
            "Help on built-in function degrees in module math:\n",
            "\n",
            "degrees(x, /)\n",
            "    Convert angle x from radians to degrees.\n",
            "\n"
          ]
        }
      ]
    },
    {
      "cell_type": "code",
      "source": [
        "#Esercizio L'azienda Object SpA ha creato una lista di quanti oggetti ha venduto ogni mese nell'ultimo anno: lst = [2000, 5500, 7200, 4320, 1280, 1900, 2500, 3900, 6410, 8150, 7100, 5350] trasformiamola in un array NumPy (casting): lst = np.array(lst) e rispondiamo alle domande del CEO della Object SpA: • qual è stata la vendita massima mensile? E quella minima? • quali sono le vendite mensili maggiori di 4999 oggetti? E quante ne sono? • quali sono le vendite minori di 3000 oggetti? 5 • in media quanti oggetti sono stati venduti al mese?"
      ],
      "metadata": {
        "id": "3g49kFBAwq19"
      },
      "execution_count": null,
      "outputs": []
    },
    {
      "cell_type": "code",
      "source": [
        "lst = [2000, 5500, 7200, 4320, 1280, 1900, 2500, 3900, 6410, 8150, 7100, 5350]\n",
        "lst = np.array(lst)\n",
        "max_mensile = lst.max()\n",
        "min_mensile= lst.min()\n",
        "lst_maggioridi4999=lst[lst>4999]\n",
        "maggioridi4999=len(lst_maggioridi4999)\n",
        "lst_minoridi3000=lst[lst<3000]\n",
        "minoridi3000=len(lst_minoridi3000)\n",
        "media_mensile=lst.mean()\n",
        "print(f\"la vendita massima mensile è {max_mensile} mentre quella minima è {min_mensile}\")\n",
        "print(f\"le vendite maggiori di 4999 sono {maggioridi4999}, mentre le vendite minori di 3000 sono {minoridi3000}\")\n",
        "print(f\"in media sono stati venduti {media_mensile} oggetti al mese\")\n"
      ],
      "metadata": {
        "id": "MqTr-WzUk-VP",
        "colab": {
          "base_uri": "https://localhost:8080/"
        },
        "outputId": "2a54414d-4724-4f99-a807-e7b6c92a5dbb"
      },
      "execution_count": 10,
      "outputs": [
        {
          "output_type": "stream",
          "name": "stdout",
          "text": [
            "la vendita massima mensile è 8150 mentre quella minima è 1280\n",
            "le vendite maggiori di 4999 sono 6, mentre le vendite minori di 3000 sono 4\n",
            "in media sono stati venduti 4634.166666666667 oggetti al mese\n"
          ]
        }
      ]
    },
    {
      "cell_type": "code",
      "source": [
        "#Esercizio Consideriamo il seguente dizionario: fatturati_dict = {1997: 12_000, 1998: 15_000, 1999: 20_000, 2000: 23_000, 2001: 25_000, 2002: 17_000, 2003: 14_000, 2004: 21_000} Consideriamo ora la seguente Series: fatturati_series = pd.Series([12_000, 15_000, 20_000, 23_000, 25_000, 17_000, 14_000, 21_000], index=range(1997, 2005)) Possiamo accedere alle stesse informazioni nello stesso modo: fatturati_dict[1997] fatturati_series[1997] Dunque qual è la differenza tra i due tipi di dato? Cosa potremmo fare con la Series che non possiamo fare con il dizionario?"
      ],
      "metadata": {
        "id": "om_JH4oowqmd"
      },
      "execution_count": null,
      "outputs": []
    },
    {
      "cell_type": "code",
      "source": [
        "fatturati_dict = {1997: 12_000, 1998: 15_000, 1999: 20_000, 2000: 23_000, 2001: 25_000, 2002: 17_000, 2003: 14_000, 2004: 21_000}\n",
        "fatturati_series = pd.Series([12_000, 15_000, 20_000, 23_000, 25_000, 17_000, 14_000, 21_000], index=range(1997, 2005))\n",
        "print(fatturati_dict[1997])\n",
        "print(fatturati_series[1997])\n",
        "#la series al contrario del dizionario ci da la possibilità di ottenere ulteriori informazioni in modo veloce. per esempio:\n",
        "media_fatturato = fatturati_series.mean()\n",
        "print(\"Media fatturato:\", media_fatturato)\n",
        "\n"
      ],
      "metadata": {
        "colab": {
          "base_uri": "https://localhost:8080/"
        },
        "id": "1kNA5bTP2Jss",
        "outputId": "0ef498b1-2d00-4039-e18c-7eed48fcd73e"
      },
      "execution_count": 15,
      "outputs": [
        {
          "output_type": "stream",
          "name": "stdout",
          "text": [
            "12000\n",
            "12000\n",
            "Media fatturato: 18375.0\n"
          ]
        }
      ]
    },
    {
      "cell_type": "code",
      "source": [
        "#Esercizio L'azienda Object SpA ha un dataset con tutti gli stipendi dei dipendenti, memorizzato in un ndarray: import numpy as np stipendi = np.array( [100, 200, 300, 400, 500,  600, 700, 800, 900, 1000] ) L'azienda ci chiede di raddoppiare tutti gli stipendi; facciamolo in due modi: • con un ciclo for 7 • con il masking"
      ],
      "metadata": {
        "id": "TWkjt6EBwp1S"
      },
      "execution_count": null,
      "outputs": []
    },
    {
      "cell_type": "code",
      "source": [
        "#risoluzione con ciclo for:\n",
        "stipendi = np.array( [100, 200, 300, 400, 500,  600, 700, 800, 900, 1000] )\n",
        "stipendi_doppi=[]\n",
        "for stipendio in stipendi:\n",
        "    stipendio_doppio=stipendio*2\n",
        "    stipendi_doppi.append(stipendio_doppio)\n",
        "print(stipendi_doppi)\n"
      ],
      "metadata": {
        "colab": {
          "base_uri": "https://localhost:8080/"
        },
        "id": "idET_VLN5tHS",
        "outputId": "20dcd003-a3ad-416a-ea54-e4516efeda33"
      },
      "execution_count": 18,
      "outputs": [
        {
          "output_type": "stream",
          "name": "stdout",
          "text": [
            "[200, 400, 600, 800, 1000, 1200, 1400, 1600, 1800, 2000]\n"
          ]
        }
      ]
    },
    {
      "cell_type": "code",
      "source": [
        "#risoluzione con il masking:\n",
        "stipendi = np.array( [100, 200, 300, 400, 500,  600, 700, 800, 900, 1000] )\n",
        "stipendi_doppi=stipendi*2\n",
        "print(stipendi_doppi)"
      ],
      "metadata": {
        "colab": {
          "base_uri": "https://localhost:8080/"
        },
        "id": "iwubpDir66Hz",
        "outputId": "1dec6043-dc8e-4106-95a0-9dc7b19d372d"
      },
      "execution_count": 19,
      "outputs": [
        {
          "output_type": "stream",
          "name": "stdout",
          "text": [
            "[ 200  400  600  800 1000 1200 1400 1600 1800 2000]\n"
          ]
        }
      ]
    }
  ]
}